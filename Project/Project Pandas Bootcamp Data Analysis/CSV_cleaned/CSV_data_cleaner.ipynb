{
 "cells": [
  {
   "cell_type": "markdown",
   "metadata": {},
   "source": [
    "# Project 1\n",
    "\n",
    "CSV Data Cleaner\n",
    "\n",
    "Description\n",
    "\n",
    "The CSV Data Cleaner is a beginner-level Python project using the Pandas library. It automates the cleaning of messy datasets by handling missing values, renaming columns, removing duplicates, and exporting the cleaned data to a new file. This project is ideal for learning the basics of data cleaning and manipulation with Pandas.\n",
    "\n",
    "Requirements\n",
    "- Python 3.x installed on your computer.\n",
    "- Pandas library (pip install pandas).\n",
    "\n",
    "- A sample CSV file to test the program (e.g., data.csv).\n",
    "\n",
    "- Basic understanding of Pandas DataFrame operations.\n",
    "\n",
    "Algorithm\n",
    "- Import the required libraries (Pandas).\n",
    "\n",
    "- Load the CSV file into a Pandas DataFrame.\n",
    "\n",
    "- Handle missing values by:\n",
    "\n",
    "    - Filling them with a default value.\n",
    "\n",
    "    - Dropping rows or columns with too many missing values.\n",
    "\n",
    "- Rename columns for better readability.\n",
    "\n",
    "- Remove duplicate rows from the dataset.\n",
    "\n",
    "- Filter out unnecessary columns (optional).\n",
    "\n",
    "- Save the cleaned DataFrame to a new CSV file\n",
    "\n",
    "Key Features\n",
    "- Flexible handling of missing data.\n",
    "\n",
    "- Column renaming for better understanding of the dataset.\n",
    "\n",
    "- Duplicate removal ensures data accuracy.\n",
    "\n",
    "- Option to keep only specific columns of interest.\n",
    "\n",
    "- Saves the cleaned data for further use."
   ]
  },
  {
   "cell_type": "markdown",
   "metadata": {},
   "source": [
    "## Import Library and Dataset"
   ]
  },
  {
   "cell_type": "code",
   "execution_count": 81,
   "metadata": {},
   "outputs": [],
   "source": [
    "# Import Library\n",
    "import pandas as pd\n",
    "import numpy as np"
   ]
  },
  {
   "cell_type": "markdown",
   "metadata": {},
   "source": [
    "Link Source Dataset: https://www.kaggle.com/code/ahmedwaelnasef/udemy-courses-eda"
   ]
  },
  {
   "cell_type": "code",
   "execution_count": 82,
   "metadata": {},
   "outputs": [
    {
     "data": {
      "text/html": [
       "<div>\n",
       "<style scoped>\n",
       "    .dataframe tbody tr th:only-of-type {\n",
       "        vertical-align: middle;\n",
       "    }\n",
       "\n",
       "    .dataframe tbody tr th {\n",
       "        vertical-align: top;\n",
       "    }\n",
       "\n",
       "    .dataframe thead th {\n",
       "        text-align: right;\n",
       "    }\n",
       "</style>\n",
       "<table border=\"1\" class=\"dataframe\">\n",
       "  <thead>\n",
       "    <tr style=\"text-align: right;\">\n",
       "      <th></th>\n",
       "      <th>course_id</th>\n",
       "      <th>course_title</th>\n",
       "      <th>url</th>\n",
       "      <th>is_paid</th>\n",
       "      <th>price</th>\n",
       "      <th>num_subscribers</th>\n",
       "      <th>num_reviews</th>\n",
       "      <th>num_lectures</th>\n",
       "      <th>level</th>\n",
       "      <th>content_duration</th>\n",
       "      <th>published_timestamp</th>\n",
       "      <th>subject</th>\n",
       "    </tr>\n",
       "  </thead>\n",
       "  <tbody>\n",
       "    <tr>\n",
       "      <th>0</th>\n",
       "      <td>1070968</td>\n",
       "      <td>Ultimate Investment Banking Course</td>\n",
       "      <td>https://www.udemy.com/ultimate-investment-bank...</td>\n",
       "      <td>True</td>\n",
       "      <td>200</td>\n",
       "      <td>2147</td>\n",
       "      <td>23</td>\n",
       "      <td>51</td>\n",
       "      <td>All Levels</td>\n",
       "      <td>1.5</td>\n",
       "      <td>2017-01-18T20:58:58Z</td>\n",
       "      <td>Business Finance</td>\n",
       "    </tr>\n",
       "    <tr>\n",
       "      <th>1</th>\n",
       "      <td>1113822</td>\n",
       "      <td>Complete GST Course &amp; Certification - Grow You...</td>\n",
       "      <td>https://www.udemy.com/goods-and-services-tax/</td>\n",
       "      <td>True</td>\n",
       "      <td>75</td>\n",
       "      <td>2792</td>\n",
       "      <td>923</td>\n",
       "      <td>274</td>\n",
       "      <td>All Levels</td>\n",
       "      <td>39.0</td>\n",
       "      <td>2017-03-09T16:34:20Z</td>\n",
       "      <td>Business Finance</td>\n",
       "    </tr>\n",
       "    <tr>\n",
       "      <th>2</th>\n",
       "      <td>1006314</td>\n",
       "      <td>Financial Modeling for Business Analysts and C...</td>\n",
       "      <td>https://www.udemy.com/financial-modeling-for-b...</td>\n",
       "      <td>True</td>\n",
       "      <td>45</td>\n",
       "      <td>2174</td>\n",
       "      <td>74</td>\n",
       "      <td>51</td>\n",
       "      <td>Intermediate Level</td>\n",
       "      <td>2.5</td>\n",
       "      <td>2016-12-19T19:26:30Z</td>\n",
       "      <td>Business Finance</td>\n",
       "    </tr>\n",
       "  </tbody>\n",
       "</table>\n",
       "</div>"
      ],
      "text/plain": [
       "   course_id                                       course_title  \\\n",
       "0    1070968                 Ultimate Investment Banking Course   \n",
       "1    1113822  Complete GST Course & Certification - Grow You...   \n",
       "2    1006314  Financial Modeling for Business Analysts and C...   \n",
       "\n",
       "                                                 url  is_paid  price  \\\n",
       "0  https://www.udemy.com/ultimate-investment-bank...     True    200   \n",
       "1      https://www.udemy.com/goods-and-services-tax/     True     75   \n",
       "2  https://www.udemy.com/financial-modeling-for-b...     True     45   \n",
       "\n",
       "   num_subscribers  num_reviews  num_lectures               level  \\\n",
       "0             2147           23            51          All Levels   \n",
       "1             2792          923           274          All Levels   \n",
       "2             2174           74            51  Intermediate Level   \n",
       "\n",
       "   content_duration   published_timestamp           subject  \n",
       "0               1.5  2017-01-18T20:58:58Z  Business Finance  \n",
       "1              39.0  2017-03-09T16:34:20Z  Business Finance  \n",
       "2               2.5  2016-12-19T19:26:30Z  Business Finance  "
      ]
     },
     "execution_count": 82,
     "metadata": {},
     "output_type": "execute_result"
    }
   ],
   "source": [
    "# import dataset\n",
    "df = pd.read_csv(r'D:\\File Belajar\\Belajar Data\\Udemy\\pandas\\Project\\udemy_courses.csv')\n",
    "df.head(3)"
   ]
  },
  {
   "cell_type": "code",
   "execution_count": 95,
   "metadata": {},
   "outputs": [
    {
     "name": "stdout",
     "output_type": "stream",
     "text": [
      "Row: 3174 Column: 12\n"
     ]
    }
   ],
   "source": [
    "# Show row and column dataset\n",
    "print('Row:', df.shape[0], 'Column:', df.shape[1])"
   ]
  },
  {
   "cell_type": "code",
   "execution_count": 96,
   "metadata": {},
   "outputs": [
    {
     "name": "stdout",
     "output_type": "stream",
     "text": [
      "<class 'pandas.core.frame.DataFrame'>\n",
      "Index: 3174 entries, 0 to 3677\n",
      "Data columns (total 12 columns):\n",
      " #   Column           Non-Null Count  Dtype  \n",
      "---  ------           --------------  -----  \n",
      " 0   ID               3174 non-null   float64\n",
      " 1   title            3174 non-null   object \n",
      " 2   url              3174 non-null   object \n",
      " 3   is_paid          3174 non-null   bool   \n",
      " 4   price            3174 non-null   float64\n",
      " 5   num_subscribers  3174 non-null   float64\n",
      " 6   num_reviews      3174 non-null   float64\n",
      " 7   num_lectures     3174 non-null   float64\n",
      " 8   level            3174 non-null   object \n",
      " 9   duration         3174 non-null   float64\n",
      " 10  publish_date     3174 non-null   object \n",
      " 11  subject          3174 non-null   object \n",
      "dtypes: bool(1), float64(6), object(5)\n",
      "memory usage: 300.7+ KB\n"
     ]
    }
   ],
   "source": [
    "# Info dataset\n",
    "df.info()"
   ]
  },
  {
   "cell_type": "markdown",
   "metadata": {},
   "source": [
    "## Exploratory Data Analysis (EDA)"
   ]
  },
  {
   "cell_type": "markdown",
   "metadata": {},
   "source": [
    "### Drop some value in dataset"
   ]
  },
  {
   "cell_type": "code",
   "execution_count": 97,
   "metadata": {},
   "outputs": [
    {
     "name": "stdout",
     "output_type": "stream",
     "text": [
      "<class 'pandas.core.frame.DataFrame'>\n",
      "Index: 3174 entries, 0 to 3677\n",
      "Data columns (total 12 columns):\n",
      " #   Column           Non-Null Count  Dtype  \n",
      "---  ------           --------------  -----  \n",
      " 0   ID               3174 non-null   float64\n",
      " 1   title            3174 non-null   object \n",
      " 2   url              3174 non-null   object \n",
      " 3   is_paid          3174 non-null   object \n",
      " 4   price            3174 non-null   float64\n",
      " 5   num_subscribers  3174 non-null   float64\n",
      " 6   num_reviews      3174 non-null   float64\n",
      " 7   num_lectures     3174 non-null   float64\n",
      " 8   level            3174 non-null   object \n",
      " 9   duration         3174 non-null   float64\n",
      " 10  publish_date     3174 non-null   object \n",
      " 11  subject          3174 non-null   object \n",
      "dtypes: float64(6), object(6)\n",
      "memory usage: 322.4+ KB\n"
     ]
    }
   ],
   "source": [
    "# Change type data bool to object\n",
    "df['is_paid'] = df['is_paid'].astype('object')\n",
    "df.info()"
   ]
  },
  {
   "cell_type": "code",
   "execution_count": 98,
   "metadata": {},
   "outputs": [
    {
     "data": {
      "text/plain": [
       "ID                 0\n",
       "title              0\n",
       "url                0\n",
       "is_paid            0\n",
       "price              0\n",
       "num_subscribers    0\n",
       "num_reviews        0\n",
       "num_lectures       0\n",
       "level              0\n",
       "duration           0\n",
       "publish_date       0\n",
       "subject            0\n",
       "dtype: int64"
      ]
     },
     "execution_count": 98,
     "metadata": {},
     "output_type": "execute_result"
    }
   ],
   "source": [
    "# Cek missing value\n",
    "df.isna().sum()"
   ]
  },
  {
   "cell_type": "code",
   "execution_count": 87,
   "metadata": {},
   "outputs": [
    {
     "data": {
      "text/plain": [
       "course_id              500\n",
       "course_title           500\n",
       "url                    500\n",
       "is_paid                500\n",
       "price                  500\n",
       "num_subscribers        500\n",
       "num_reviews            500\n",
       "num_lectures           500\n",
       "level                  500\n",
       "content_duration       500\n",
       "published_timestamp    500\n",
       "subject                500\n",
       "dtype: int64"
      ]
     },
     "execution_count": 87,
     "metadata": {},
     "output_type": "execute_result"
    }
   ],
   "source": [
    "# Change the value in the dataset to Nan or empty\n",
    "df.iloc[2500:3000] = np.nan\n",
    "\n",
    "# Cek missing value again\n",
    "df.isna().sum()"
   ]
  },
  {
   "cell_type": "code",
   "execution_count": 88,
   "metadata": {},
   "outputs": [
    {
     "name": "stderr",
     "output_type": "stream",
     "text": [
      "C:\\Users\\User\\AppData\\Local\\Temp\\ipykernel_23024\\3050864119.py:14: FutureWarning: Downcasting object dtype arrays on .fillna, .ffill, .bfill is deprecated and will change in a future version. Call result.infer_objects(copy=False) instead. To opt-in to the future behavior, set `pd.set_option('future.no_silent_downcasting', True)`\n",
      "  df[col] = df[col].fillna(mode_col)\n"
     ]
    },
    {
     "data": {
      "text/plain": [
       "course_id              0\n",
       "course_title           0\n",
       "url                    0\n",
       "is_paid                0\n",
       "price                  0\n",
       "num_subscribers        0\n",
       "num_reviews            0\n",
       "num_lectures           0\n",
       "level                  0\n",
       "content_duration       0\n",
       "published_timestamp    0\n",
       "subject                0\n",
       "dtype: int64"
      ]
     },
     "execution_count": 88,
     "metadata": {},
     "output_type": "execute_result"
    }
   ],
   "source": [
    "# Handle Missing value\n",
    "\n",
    "# Missing value numerical\n",
    "\n",
    "# Change the value in the dataset to Nan or empty\n",
    "df_numerical = df.select_dtypes(include=['number']).columns\n",
    "df[df_numerical] = df[df_numerical].fillna(df[df_numerical].mean())\n",
    "\n",
    "# Separate categorical data types to deal with missing values\n",
    "df_cat = df.select_dtypes(include=['object', 'category']).columns\n",
    "# Loop to replace missing values with frequently occurring values\n",
    "for col in df_cat:\n",
    "    mode_col = df[col].mode()[0] # mode is used for categorical data types\n",
    "    df[col] = df[col].fillna(mode_col)\n",
    "\n",
    "# check missing values after the process of handling missing values\n",
    "df.isna().sum()"
   ]
  },
  {
   "cell_type": "markdown",
   "metadata": {},
   "source": [
    "### Handle data duplicated"
   ]
  },
  {
   "cell_type": "code",
   "execution_count": 89,
   "metadata": {},
   "outputs": [
    {
     "name": "stdout",
     "output_type": "stream",
     "text": [
      "True\n"
     ]
    }
   ],
   "source": [
    "# Cek data duplicated\n",
    "hasDup = df.duplicated().any() # stores duplicate data, if any then the result is True\n",
    "print(hasDup)"
   ]
  },
  {
   "cell_type": "code",
   "execution_count": 99,
   "metadata": {},
   "outputs": [
    {
     "data": {
      "text/plain": [
       "(3174, 12)"
      ]
     },
     "execution_count": 99,
     "metadata": {},
     "output_type": "execute_result"
    }
   ],
   "source": [
    "# Drop data duplicates\n",
    "df.drop_duplicates(inplace=True) # inplace=True is used if you do not want to create a new variable\n",
    "\n",
    "# cek row and column dataset\n",
    "df.shape"
   ]
  },
  {
   "cell_type": "markdown",
   "metadata": {},
   "source": [
    "### Rename name columns"
   ]
  },
  {
   "cell_type": "code",
   "execution_count": 100,
   "metadata": {},
   "outputs": [
    {
     "data": {
      "text/html": [
       "<div>\n",
       "<style scoped>\n",
       "    .dataframe tbody tr th:only-of-type {\n",
       "        vertical-align: middle;\n",
       "    }\n",
       "\n",
       "    .dataframe tbody tr th {\n",
       "        vertical-align: top;\n",
       "    }\n",
       "\n",
       "    .dataframe thead th {\n",
       "        text-align: right;\n",
       "    }\n",
       "</style>\n",
       "<table border=\"1\" class=\"dataframe\">\n",
       "  <thead>\n",
       "    <tr style=\"text-align: right;\">\n",
       "      <th></th>\n",
       "      <th>ID</th>\n",
       "      <th>title</th>\n",
       "      <th>url</th>\n",
       "      <th>is_paid</th>\n",
       "      <th>price</th>\n",
       "      <th>num_subscribers</th>\n",
       "      <th>num_reviews</th>\n",
       "      <th>num_lectures</th>\n",
       "      <th>level</th>\n",
       "      <th>duration</th>\n",
       "      <th>publish_date</th>\n",
       "      <th>subject</th>\n",
       "    </tr>\n",
       "  </thead>\n",
       "  <tbody>\n",
       "    <tr>\n",
       "      <th>0</th>\n",
       "      <td>1070968.0</td>\n",
       "      <td>Ultimate Investment Banking Course</td>\n",
       "      <td>https://www.udemy.com/ultimate-investment-bank...</td>\n",
       "      <td>True</td>\n",
       "      <td>200.0</td>\n",
       "      <td>2147.0</td>\n",
       "      <td>23.0</td>\n",
       "      <td>51.0</td>\n",
       "      <td>All Levels</td>\n",
       "      <td>1.5</td>\n",
       "      <td>2017-01-18T20:58:58Z</td>\n",
       "      <td>Business Finance</td>\n",
       "    </tr>\n",
       "    <tr>\n",
       "      <th>1</th>\n",
       "      <td>1113822.0</td>\n",
       "      <td>Complete GST Course &amp; Certification - Grow You...</td>\n",
       "      <td>https://www.udemy.com/goods-and-services-tax/</td>\n",
       "      <td>True</td>\n",
       "      <td>75.0</td>\n",
       "      <td>2792.0</td>\n",
       "      <td>923.0</td>\n",
       "      <td>274.0</td>\n",
       "      <td>All Levels</td>\n",
       "      <td>39.0</td>\n",
       "      <td>2017-03-09T16:34:20Z</td>\n",
       "      <td>Business Finance</td>\n",
       "    </tr>\n",
       "    <tr>\n",
       "      <th>2</th>\n",
       "      <td>1006314.0</td>\n",
       "      <td>Financial Modeling for Business Analysts and C...</td>\n",
       "      <td>https://www.udemy.com/financial-modeling-for-b...</td>\n",
       "      <td>True</td>\n",
       "      <td>45.0</td>\n",
       "      <td>2174.0</td>\n",
       "      <td>74.0</td>\n",
       "      <td>51.0</td>\n",
       "      <td>Intermediate Level</td>\n",
       "      <td>2.5</td>\n",
       "      <td>2016-12-19T19:26:30Z</td>\n",
       "      <td>Business Finance</td>\n",
       "    </tr>\n",
       "  </tbody>\n",
       "</table>\n",
       "</div>"
      ],
      "text/plain": [
       "          ID                                              title  \\\n",
       "0  1070968.0                 Ultimate Investment Banking Course   \n",
       "1  1113822.0  Complete GST Course & Certification - Grow You...   \n",
       "2  1006314.0  Financial Modeling for Business Analysts and C...   \n",
       "\n",
       "                                                 url is_paid  price  \\\n",
       "0  https://www.udemy.com/ultimate-investment-bank...    True  200.0   \n",
       "1      https://www.udemy.com/goods-and-services-tax/    True   75.0   \n",
       "2  https://www.udemy.com/financial-modeling-for-b...    True   45.0   \n",
       "\n",
       "   num_subscribers  num_reviews  num_lectures               level  duration  \\\n",
       "0           2147.0         23.0          51.0          All Levels       1.5   \n",
       "1           2792.0        923.0         274.0          All Levels      39.0   \n",
       "2           2174.0         74.0          51.0  Intermediate Level       2.5   \n",
       "\n",
       "           publish_date           subject  \n",
       "0  2017-01-18T20:58:58Z  Business Finance  \n",
       "1  2017-03-09T16:34:20Z  Business Finance  \n",
       "2  2016-12-19T19:26:30Z  Business Finance  "
      ]
     },
     "execution_count": 100,
     "metadata": {},
     "output_type": "execute_result"
    }
   ],
   "source": [
    "df.head(3)"
   ]
  },
  {
   "cell_type": "code",
   "execution_count": 103,
   "metadata": {},
   "outputs": [
    {
     "data": {
      "text/html": [
       "<div>\n",
       "<style scoped>\n",
       "    .dataframe tbody tr th:only-of-type {\n",
       "        vertical-align: middle;\n",
       "    }\n",
       "\n",
       "    .dataframe tbody tr th {\n",
       "        vertical-align: top;\n",
       "    }\n",
       "\n",
       "    .dataframe thead th {\n",
       "        text-align: right;\n",
       "    }\n",
       "</style>\n",
       "<table border=\"1\" class=\"dataframe\">\n",
       "  <thead>\n",
       "    <tr style=\"text-align: right;\">\n",
       "      <th></th>\n",
       "      <th>ID</th>\n",
       "      <th>title</th>\n",
       "      <th>url</th>\n",
       "      <th>is_paid</th>\n",
       "      <th>price</th>\n",
       "      <th>subscribers</th>\n",
       "      <th>num_reviews</th>\n",
       "      <th>num_lectures</th>\n",
       "      <th>level</th>\n",
       "      <th>duration</th>\n",
       "      <th>publish_date</th>\n",
       "      <th>subject</th>\n",
       "    </tr>\n",
       "  </thead>\n",
       "  <tbody>\n",
       "    <tr>\n",
       "      <th>0</th>\n",
       "      <td>1070968.0</td>\n",
       "      <td>Ultimate Investment Banking Course</td>\n",
       "      <td>https://www.udemy.com/ultimate-investment-bank...</td>\n",
       "      <td>True</td>\n",
       "      <td>200.0</td>\n",
       "      <td>2147.0</td>\n",
       "      <td>23.0</td>\n",
       "      <td>51.0</td>\n",
       "      <td>All Levels</td>\n",
       "      <td>1.5</td>\n",
       "      <td>2017-01-18T20:58:58Z</td>\n",
       "      <td>Business Finance</td>\n",
       "    </tr>\n",
       "    <tr>\n",
       "      <th>1</th>\n",
       "      <td>1113822.0</td>\n",
       "      <td>Complete GST Course &amp; Certification - Grow You...</td>\n",
       "      <td>https://www.udemy.com/goods-and-services-tax/</td>\n",
       "      <td>True</td>\n",
       "      <td>75.0</td>\n",
       "      <td>2792.0</td>\n",
       "      <td>923.0</td>\n",
       "      <td>274.0</td>\n",
       "      <td>All Levels</td>\n",
       "      <td>39.0</td>\n",
       "      <td>2017-03-09T16:34:20Z</td>\n",
       "      <td>Business Finance</td>\n",
       "    </tr>\n",
       "    <tr>\n",
       "      <th>2</th>\n",
       "      <td>1006314.0</td>\n",
       "      <td>Financial Modeling for Business Analysts and C...</td>\n",
       "      <td>https://www.udemy.com/financial-modeling-for-b...</td>\n",
       "      <td>True</td>\n",
       "      <td>45.0</td>\n",
       "      <td>2174.0</td>\n",
       "      <td>74.0</td>\n",
       "      <td>51.0</td>\n",
       "      <td>Intermediate Level</td>\n",
       "      <td>2.5</td>\n",
       "      <td>2016-12-19T19:26:30Z</td>\n",
       "      <td>Business Finance</td>\n",
       "    </tr>\n",
       "  </tbody>\n",
       "</table>\n",
       "</div>"
      ],
      "text/plain": [
       "          ID                                              title  \\\n",
       "0  1070968.0                 Ultimate Investment Banking Course   \n",
       "1  1113822.0  Complete GST Course & Certification - Grow You...   \n",
       "2  1006314.0  Financial Modeling for Business Analysts and C...   \n",
       "\n",
       "                                                 url is_paid  price  \\\n",
       "0  https://www.udemy.com/ultimate-investment-bank...    True  200.0   \n",
       "1      https://www.udemy.com/goods-and-services-tax/    True   75.0   \n",
       "2  https://www.udemy.com/financial-modeling-for-b...    True   45.0   \n",
       "\n",
       "   subscribers  num_reviews  num_lectures               level  duration  \\\n",
       "0       2147.0         23.0          51.0          All Levels       1.5   \n",
       "1       2792.0        923.0         274.0          All Levels      39.0   \n",
       "2       2174.0         74.0          51.0  Intermediate Level       2.5   \n",
       "\n",
       "           publish_date           subject  \n",
       "0  2017-01-18T20:58:58Z  Business Finance  \n",
       "1  2017-03-09T16:34:20Z  Business Finance  \n",
       "2  2016-12-19T19:26:30Z  Business Finance  "
      ]
     },
     "execution_count": 103,
     "metadata": {},
     "output_type": "execute_result"
    }
   ],
   "source": [
    "# Rename columns name\n",
    "\n",
    "# Use rename() function for change name column\n",
    "# Save the data as dict, key is the old name and value is the changed name.\n",
    "df.rename(columns={\n",
    "    'course_id':'ID',\n",
    "    'course_title':'title',\n",
    "    'num_subscribers':'subscribers',\n",
    "    'published_timestamp':'publish_date',\n",
    "    'content_duration':'duration'\n",
    "    }, inplace=True)\n",
    "\n",
    "df.head(3)\n"
   ]
  },
  {
   "cell_type": "markdown",
   "metadata": {},
   "source": [
    "### Filter Column"
   ]
  },
  {
   "cell_type": "code",
   "execution_count": 104,
   "metadata": {},
   "outputs": [
    {
     "data": {
      "text/html": [
       "<div>\n",
       "<style scoped>\n",
       "    .dataframe tbody tr th:only-of-type {\n",
       "        vertical-align: middle;\n",
       "    }\n",
       "\n",
       "    .dataframe tbody tr th {\n",
       "        vertical-align: top;\n",
       "    }\n",
       "\n",
       "    .dataframe thead th {\n",
       "        text-align: right;\n",
       "    }\n",
       "</style>\n",
       "<table border=\"1\" class=\"dataframe\">\n",
       "  <thead>\n",
       "    <tr style=\"text-align: right;\">\n",
       "      <th></th>\n",
       "      <th>ID</th>\n",
       "      <th>title</th>\n",
       "      <th>subscribers</th>\n",
       "      <th>publish_date</th>\n",
       "      <th>duration</th>\n",
       "    </tr>\n",
       "  </thead>\n",
       "  <tbody>\n",
       "    <tr>\n",
       "      <th>0</th>\n",
       "      <td>1070968.0</td>\n",
       "      <td>Ultimate Investment Banking Course</td>\n",
       "      <td>2147.0</td>\n",
       "      <td>2017-01-18T20:58:58Z</td>\n",
       "      <td>1.5</td>\n",
       "    </tr>\n",
       "    <tr>\n",
       "      <th>1</th>\n",
       "      <td>1113822.0</td>\n",
       "      <td>Complete GST Course &amp; Certification - Grow You...</td>\n",
       "      <td>2792.0</td>\n",
       "      <td>2017-03-09T16:34:20Z</td>\n",
       "      <td>39.0</td>\n",
       "    </tr>\n",
       "    <tr>\n",
       "      <th>2</th>\n",
       "      <td>1006314.0</td>\n",
       "      <td>Financial Modeling for Business Analysts and C...</td>\n",
       "      <td>2174.0</td>\n",
       "      <td>2016-12-19T19:26:30Z</td>\n",
       "      <td>2.5</td>\n",
       "    </tr>\n",
       "    <tr>\n",
       "      <th>3</th>\n",
       "      <td>1210588.0</td>\n",
       "      <td>Beginner to Pro - Financial Analysis in Excel ...</td>\n",
       "      <td>2451.0</td>\n",
       "      <td>2017-05-30T20:07:24Z</td>\n",
       "      <td>3.0</td>\n",
       "    </tr>\n",
       "    <tr>\n",
       "      <th>4</th>\n",
       "      <td>1011058.0</td>\n",
       "      <td>How To Maximize Your Profits Trading Options</td>\n",
       "      <td>1276.0</td>\n",
       "      <td>2016-12-13T14:57:18Z</td>\n",
       "      <td>2.0</td>\n",
       "    </tr>\n",
       "  </tbody>\n",
       "</table>\n",
       "</div>"
      ],
      "text/plain": [
       "          ID                                              title  subscribers  \\\n",
       "0  1070968.0                 Ultimate Investment Banking Course       2147.0   \n",
       "1  1113822.0  Complete GST Course & Certification - Grow You...       2792.0   \n",
       "2  1006314.0  Financial Modeling for Business Analysts and C...       2174.0   \n",
       "3  1210588.0  Beginner to Pro - Financial Analysis in Excel ...       2451.0   \n",
       "4  1011058.0       How To Maximize Your Profits Trading Options       1276.0   \n",
       "\n",
       "           publish_date  duration  \n",
       "0  2017-01-18T20:58:58Z       1.5  \n",
       "1  2017-03-09T16:34:20Z      39.0  \n",
       "2  2016-12-19T19:26:30Z       2.5  \n",
       "3  2017-05-30T20:07:24Z       3.0  \n",
       "4  2016-12-13T14:57:18Z       2.0  "
      ]
     },
     "execution_count": 104,
     "metadata": {},
     "output_type": "execute_result"
    }
   ],
   "source": [
    "# Filter Column\n",
    "\n",
    "column_rename = ['ID', 'title', 'subscribers', 'publish_date', 'duration'] # retrieves the column name\n",
    "df_rename = df[column_rename] # save in new variable\n",
    "df_rename.head()"
   ]
  },
  {
   "cell_type": "code",
   "execution_count": 105,
   "metadata": {},
   "outputs": [
    {
     "data": {
      "text/html": [
       "<div>\n",
       "<style scoped>\n",
       "    .dataframe tbody tr th:only-of-type {\n",
       "        vertical-align: middle;\n",
       "    }\n",
       "\n",
       "    .dataframe tbody tr th {\n",
       "        vertical-align: top;\n",
       "    }\n",
       "\n",
       "    .dataframe thead th {\n",
       "        text-align: right;\n",
       "    }\n",
       "</style>\n",
       "<table border=\"1\" class=\"dataframe\">\n",
       "  <thead>\n",
       "    <tr style=\"text-align: right;\">\n",
       "      <th></th>\n",
       "      <th>ID</th>\n",
       "      <th>title</th>\n",
       "      <th>url</th>\n",
       "      <th>is_paid</th>\n",
       "      <th>price</th>\n",
       "      <th>subscribers</th>\n",
       "      <th>num_reviews</th>\n",
       "      <th>num_lectures</th>\n",
       "      <th>level</th>\n",
       "      <th>duration</th>\n",
       "      <th>publish_date</th>\n",
       "      <th>subject</th>\n",
       "    </tr>\n",
       "  </thead>\n",
       "  <tbody>\n",
       "    <tr>\n",
       "      <th>0</th>\n",
       "      <td>1070968.0</td>\n",
       "      <td>Ultimate Investment Banking Course</td>\n",
       "      <td>https://www.udemy.com/ultimate-investment-bank...</td>\n",
       "      <td>True</td>\n",
       "      <td>200.0</td>\n",
       "      <td>2147.0</td>\n",
       "      <td>23.0</td>\n",
       "      <td>51.0</td>\n",
       "      <td>All Levels</td>\n",
       "      <td>1.5</td>\n",
       "      <td>2017-01-18T20:58:58Z</td>\n",
       "      <td>Business Finance</td>\n",
       "    </tr>\n",
       "    <tr>\n",
       "      <th>1</th>\n",
       "      <td>1113822.0</td>\n",
       "      <td>Complete GST Course &amp; Certification - Grow You...</td>\n",
       "      <td>https://www.udemy.com/goods-and-services-tax/</td>\n",
       "      <td>True</td>\n",
       "      <td>75.0</td>\n",
       "      <td>2792.0</td>\n",
       "      <td>923.0</td>\n",
       "      <td>274.0</td>\n",
       "      <td>All Levels</td>\n",
       "      <td>39.0</td>\n",
       "      <td>2017-03-09T16:34:20Z</td>\n",
       "      <td>Business Finance</td>\n",
       "    </tr>\n",
       "    <tr>\n",
       "      <th>2</th>\n",
       "      <td>1006314.0</td>\n",
       "      <td>Financial Modeling for Business Analysts and C...</td>\n",
       "      <td>https://www.udemy.com/financial-modeling-for-b...</td>\n",
       "      <td>True</td>\n",
       "      <td>45.0</td>\n",
       "      <td>2174.0</td>\n",
       "      <td>74.0</td>\n",
       "      <td>51.0</td>\n",
       "      <td>Intermediate Level</td>\n",
       "      <td>2.5</td>\n",
       "      <td>2016-12-19T19:26:30Z</td>\n",
       "      <td>Business Finance</td>\n",
       "    </tr>\n",
       "  </tbody>\n",
       "</table>\n",
       "</div>"
      ],
      "text/plain": [
       "          ID                                              title  \\\n",
       "0  1070968.0                 Ultimate Investment Banking Course   \n",
       "1  1113822.0  Complete GST Course & Certification - Grow You...   \n",
       "2  1006314.0  Financial Modeling for Business Analysts and C...   \n",
       "\n",
       "                                                 url is_paid  price  \\\n",
       "0  https://www.udemy.com/ultimate-investment-bank...    True  200.0   \n",
       "1      https://www.udemy.com/goods-and-services-tax/    True   75.0   \n",
       "2  https://www.udemy.com/financial-modeling-for-b...    True   45.0   \n",
       "\n",
       "   subscribers  num_reviews  num_lectures               level  duration  \\\n",
       "0       2147.0         23.0          51.0          All Levels       1.5   \n",
       "1       2792.0        923.0         274.0          All Levels      39.0   \n",
       "2       2174.0         74.0          51.0  Intermediate Level       2.5   \n",
       "\n",
       "           publish_date           subject  \n",
       "0  2017-01-18T20:58:58Z  Business Finance  \n",
       "1  2017-03-09T16:34:20Z  Business Finance  \n",
       "2  2016-12-19T19:26:30Z  Business Finance  "
      ]
     },
     "execution_count": 105,
     "metadata": {},
     "output_type": "execute_result"
    }
   ],
   "source": [
    "df.head(3)"
   ]
  },
  {
   "cell_type": "markdown",
   "metadata": {},
   "source": [
    "## Save the cleaned DataFrame to a new CSV file."
   ]
  },
  {
   "cell_type": "code",
   "execution_count": 106,
   "metadata": {},
   "outputs": [],
   "source": [
    "df.to_csv('cleaned_data.csv')"
   ]
  }
 ],
 "metadata": {
  "kernelspec": {
   "display_name": "Python 3",
   "language": "python",
   "name": "python3"
  },
  "language_info": {
   "codemirror_mode": {
    "name": "ipython",
    "version": 3
   },
   "file_extension": ".py",
   "mimetype": "text/x-python",
   "name": "python",
   "nbconvert_exporter": "python",
   "pygments_lexer": "ipython3",
   "version": "3.11.2"
  }
 },
 "nbformat": 4,
 "nbformat_minor": 2
}
