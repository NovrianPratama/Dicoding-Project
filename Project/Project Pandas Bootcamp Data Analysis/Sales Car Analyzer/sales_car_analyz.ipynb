{
 "cells": [
  {
   "cell_type": "markdown",
   "metadata": {},
   "source": [
    "# Project 4\n",
    "\n",
    "Sales Data Aggregator\n",
    "\n",
    "Description:\n",
    "\n",
    "The Sales Data Aggregator project is a beginner-friendly exercise for working with sales data using Pandas. The project involves loading a CSV file containing sales information, aggregating data to calculate total revenue, average sales per region or product, and identifying trends. This project helps learners practice data cleaning, grouping, and visualization techniques.\n",
    "\n",
    "Algorithm\n",
    "- Import the required libraries (Pandas, Matplotlib, Seaborn).\n",
    "\n",
    "- Load the CSV file into a Pandas DataFrame.\n",
    "\n",
    "- Handle missing values by:\n",
    "\n",
    "    - Handle missing values\n",
    "\n",
    "    - Convert date columns to datetime format.\n",
    "\n",
    "- Analyze the data:\n",
    "\n",
    "    - Calculate total revenue by region and product.\n",
    "\n",
    "    - Determine the average units sold per product or region.\n",
    "\n",
    "    - Analyze trends over time (e.g., monthly sales).\n",
    "\n",
    "- Visualize the results using charts:\n",
    "\n",
    "    - Bar chart\n",
    "\n",
    "    - Line plot\n",
    "    - Histogram\n",
    "    - Pie chart\n",
    "- Display the findings and visualizations.\n",
    "\n",
    "Key Features\n",
    "- Aggregates and analyzes sales data by region, product, and time.\n",
    "\n",
    "- Calculates total revenue, average units sold, and trends.\n",
    "\n",
    "- Visualizes insights with bar charts, line plots, and pie charts.\n",
    "\n",
    "- Offers practical experience in working with business datasets.\n",
    "\n",
    "- Reinforces Pandas and data visualization skills for beginners."
   ]
  },
  {
   "cell_type": "markdown",
   "metadata": {},
   "source": [
    "## Import Library"
   ]
  },
  {
   "cell_type": "code",
   "execution_count": 1,
   "metadata": {},
   "outputs": [],
   "source": [
    "# Import Library\n",
    "import pandas as pd\n",
    "import numpy as np\n",
    "import matplotlib.pyplot as plt\n",
    "import seaborn as sns\n",
    "import re\n",
    "import plotly.express as px\n",
    "import warnings\n",
    "warnings.filterwarnings('ignore')"
   ]
  },
  {
   "cell_type": "markdown",
   "metadata": {},
   "source": [
    "## Import  Dataset\n",
    "\n",
    "link source: https://www.kaggle.com/datasets/syedanwarafridi/vehicle-sales-data\n",
    "\n",
    "About the Dataset\n",
    "This Vehicle Sales and Market Trends dataset contains complete information about vehicle sales transactions, including data such as brand, model, year of manufacture, transmission type, sales price, date of sale, as well as vehicle condition and mileage (odometer). In addition, there are also Manheim Market Report (MMR) values that reflect the market value of the vehicle.\n",
    "\n",
    "Key Features:\n",
    "1. Vehicle Information: Vehicle make, model, trim, and year of manufacture.\n",
    "2. Transaction Data: Sale price, sale date, and vehicle condition.\n",
    "3. Market Trend: MMR value to identify market price fluctuations.\n",
    "4. Condition & Mileage: Analyse how these factors affect the selling price of the vehicle.\n",
    "\n",
    "Potential Uses:\n",
    "- Market Analysis: Understand price and demand trends in the automotive market.\n",
    "- Predictive Modelling: Build vehicle price prediction models based on attributes such as condition and mileage.\n",
    "- Business Insights: Assist dealers and industry professionals in vehicle pricing and demand strategies.\n",
    "\n",
    "Format:\n",
    "The dataset is available in CSV format, with each row representing a vehicle sales transaction.\n",
    "\n",
    "Data Integrity:\n",
    "This dataset has been verified to ensure its accuracy and reliability, though further validation is recommended."
   ]
  },
  {
   "cell_type": "code",
   "execution_count": 2,
   "metadata": {},
   "outputs": [
    {
     "data": {
      "text/html": [
       "<div>\n",
       "<style scoped>\n",
       "    .dataframe tbody tr th:only-of-type {\n",
       "        vertical-align: middle;\n",
       "    }\n",
       "\n",
       "    .dataframe tbody tr th {\n",
       "        vertical-align: top;\n",
       "    }\n",
       "\n",
       "    .dataframe thead th {\n",
       "        text-align: right;\n",
       "    }\n",
       "</style>\n",
       "<table border=\"1\" class=\"dataframe\">\n",
       "  <thead>\n",
       "    <tr style=\"text-align: right;\">\n",
       "      <th></th>\n",
       "      <th>year</th>\n",
       "      <th>make</th>\n",
       "      <th>model</th>\n",
       "      <th>trim</th>\n",
       "      <th>body</th>\n",
       "      <th>transmission</th>\n",
       "      <th>vin</th>\n",
       "      <th>state</th>\n",
       "      <th>condition</th>\n",
       "      <th>odometer</th>\n",
       "      <th>color</th>\n",
       "      <th>interior</th>\n",
       "      <th>seller</th>\n",
       "      <th>mmr</th>\n",
       "      <th>sellingprice</th>\n",
       "      <th>saledate</th>\n",
       "    </tr>\n",
       "  </thead>\n",
       "  <tbody>\n",
       "    <tr>\n",
       "      <th>0</th>\n",
       "      <td>2015</td>\n",
       "      <td>Kia</td>\n",
       "      <td>Sorento</td>\n",
       "      <td>LX</td>\n",
       "      <td>SUV</td>\n",
       "      <td>automatic</td>\n",
       "      <td>5xyktca69fg566472</td>\n",
       "      <td>ca</td>\n",
       "      <td>5.0</td>\n",
       "      <td>16639.0</td>\n",
       "      <td>white</td>\n",
       "      <td>black</td>\n",
       "      <td>kia motors america  inc</td>\n",
       "      <td>20500.0</td>\n",
       "      <td>21500.0</td>\n",
       "      <td>Tue Dec 16 2014 12:30:00 GMT-0800 (PST)</td>\n",
       "    </tr>\n",
       "    <tr>\n",
       "      <th>1</th>\n",
       "      <td>2015</td>\n",
       "      <td>Kia</td>\n",
       "      <td>Sorento</td>\n",
       "      <td>LX</td>\n",
       "      <td>SUV</td>\n",
       "      <td>automatic</td>\n",
       "      <td>5xyktca69fg561319</td>\n",
       "      <td>ca</td>\n",
       "      <td>5.0</td>\n",
       "      <td>9393.0</td>\n",
       "      <td>white</td>\n",
       "      <td>beige</td>\n",
       "      <td>kia motors america  inc</td>\n",
       "      <td>20800.0</td>\n",
       "      <td>21500.0</td>\n",
       "      <td>Tue Dec 16 2014 12:30:00 GMT-0800 (PST)</td>\n",
       "    </tr>\n",
       "  </tbody>\n",
       "</table>\n",
       "</div>"
      ],
      "text/plain": [
       "   year make    model trim body transmission                vin state  \\\n",
       "0  2015  Kia  Sorento   LX  SUV    automatic  5xyktca69fg566472    ca   \n",
       "1  2015  Kia  Sorento   LX  SUV    automatic  5xyktca69fg561319    ca   \n",
       "\n",
       "   condition  odometer  color interior                   seller      mmr  \\\n",
       "0        5.0   16639.0  white    black  kia motors america  inc  20500.0   \n",
       "1        5.0    9393.0  white    beige  kia motors america  inc  20800.0   \n",
       "\n",
       "   sellingprice                                 saledate  \n",
       "0       21500.0  Tue Dec 16 2014 12:30:00 GMT-0800 (PST)  \n",
       "1       21500.0  Tue Dec 16 2014 12:30:00 GMT-0800 (PST)  "
      ]
     },
     "execution_count": 2,
     "metadata": {},
     "output_type": "execute_result"
    }
   ],
   "source": [
    "# import dataset\n",
    "df = pd.read_csv(r'D:\\File Belajar\\Belajar Data\\Udemy\\pandas\\Project\\Project 4\\car_prices.csv')\n",
    "df.head(2)                                                                                                                                                                                                                                                                                                                                                                                                                                                                                                                                                                                                                                                                                                                                                                                                                                                                                                                                                                                                                                                                                                                                                                                                                                                                                                                                                                                                                                                                                                                                                  "
   ]
  },
  {
   "cell_type": "code",
   "execution_count": 3,
   "metadata": {},
   "outputs": [
    {
     "name": "stdout",
     "output_type": "stream",
     "text": [
      "Row: 558837 Column: 16\n"
     ]
    }
   ],
   "source": [
    "# Show row and column dataset\n",
    "print('Row:', df.shape[0], 'Column:', df.shape[1])"
   ]
  },
  {
   "cell_type": "code",
   "execution_count": 4,
   "metadata": {},
   "outputs": [
    {
     "name": "stdout",
     "output_type": "stream",
     "text": [
      "<class 'pandas.core.frame.DataFrame'>\n",
      "RangeIndex: 558837 entries, 0 to 558836\n",
      "Data columns (total 16 columns):\n",
      " #   Column        Non-Null Count   Dtype  \n",
      "---  ------        --------------   -----  \n",
      " 0   year          558837 non-null  int64  \n",
      " 1   make          548536 non-null  object \n",
      " 2   model         548438 non-null  object \n",
      " 3   trim          548186 non-null  object \n",
      " 4   body          545642 non-null  object \n",
      " 5   transmission  493485 non-null  object \n",
      " 6   vin           558833 non-null  object \n",
      " 7   state         558837 non-null  object \n",
      " 8   condition     547017 non-null  float64\n",
      " 9   odometer      558743 non-null  float64\n",
      " 10  color         558088 non-null  object \n",
      " 11  interior      558088 non-null  object \n",
      " 12  seller        558837 non-null  object \n",
      " 13  mmr           558799 non-null  float64\n",
      " 14  sellingprice  558825 non-null  float64\n",
      " 15  saledate      558825 non-null  object \n",
      "dtypes: float64(4), int64(1), object(11)\n",
      "memory usage: 68.2+ MB\n"
     ]
    }
   ],
   "source": [
    "# Info dataset\n",
    "df.info()"
   ]
  },
  {
   "cell_type": "markdown",
   "metadata": {},
   "source": [
    "The following is a brief explanation of the column names in the Vehicle Sales and Market Trends dataset:\n",
    "\n",
    "- Year: Year of vehicle manufacture.\n",
    "- Make: The brand of the vehicle (e.g. Toyota, Honda).\n",
    "- Model: Vehicle model (e.g. Corolla, Civic).\n",
    "- Trim: Vehicle version or type (e.g. sport, luxury).\n",
    "- Body: Vehicle body type (e.g. sedan, SUV).\n",
    "- Transmission: Vehicle transmission type (e.g. automatic, manual).\n",
    "- VIN: Vehicle Identification Number.\n",
    "- State: The state where the vehicle is registered.\n",
    "- Condition: The condition of the vehicle (e.g. new, used).\n",
    "- Color: The colour of the vehicle.\n",
    "- Interior: The interior of the vehicle.\n",
    "- Seller: Vehicle seller information.\n",
    "- MMR: Manheim Market Report value (estimate the market value of the vehicle).\n",
    "- Saleprice: The selling price of the vehicle.\n",
    "- Saledate: The date of the vehicle sale transaction."
   ]
  },
  {
   "cell_type": "code",
   "execution_count": 5,
   "metadata": {},
   "outputs": [
    {
     "data": {
      "text/html": [
       "<div>\n",
       "<style scoped>\n",
       "    .dataframe tbody tr th:only-of-type {\n",
       "        vertical-align: middle;\n",
       "    }\n",
       "\n",
       "    .dataframe tbody tr th {\n",
       "        vertical-align: top;\n",
       "    }\n",
       "\n",
       "    .dataframe thead th {\n",
       "        text-align: right;\n",
       "    }\n",
       "</style>\n",
       "<table border=\"1\" class=\"dataframe\">\n",
       "  <thead>\n",
       "    <tr style=\"text-align: right;\">\n",
       "      <th></th>\n",
       "      <th>year</th>\n",
       "      <th>condition</th>\n",
       "      <th>odometer</th>\n",
       "      <th>mmr</th>\n",
       "      <th>sellingprice</th>\n",
       "    </tr>\n",
       "  </thead>\n",
       "  <tbody>\n",
       "    <tr>\n",
       "      <th>count</th>\n",
       "      <td>558837.000000</td>\n",
       "      <td>547017.000000</td>\n",
       "      <td>558743.000000</td>\n",
       "      <td>558799.000000</td>\n",
       "      <td>558825.000000</td>\n",
       "    </tr>\n",
       "    <tr>\n",
       "      <th>mean</th>\n",
       "      <td>2010.038927</td>\n",
       "      <td>30.672365</td>\n",
       "      <td>68320.017767</td>\n",
       "      <td>13769.377495</td>\n",
       "      <td>13611.358810</td>\n",
       "    </tr>\n",
       "    <tr>\n",
       "      <th>std</th>\n",
       "      <td>3.966864</td>\n",
       "      <td>13.402832</td>\n",
       "      <td>53398.542821</td>\n",
       "      <td>9679.967174</td>\n",
       "      <td>9749.501628</td>\n",
       "    </tr>\n",
       "    <tr>\n",
       "      <th>min</th>\n",
       "      <td>1982.000000</td>\n",
       "      <td>1.000000</td>\n",
       "      <td>1.000000</td>\n",
       "      <td>25.000000</td>\n",
       "      <td>1.000000</td>\n",
       "    </tr>\n",
       "    <tr>\n",
       "      <th>25%</th>\n",
       "      <td>2007.000000</td>\n",
       "      <td>23.000000</td>\n",
       "      <td>28371.000000</td>\n",
       "      <td>7100.000000</td>\n",
       "      <td>6900.000000</td>\n",
       "    </tr>\n",
       "    <tr>\n",
       "      <th>50%</th>\n",
       "      <td>2012.000000</td>\n",
       "      <td>35.000000</td>\n",
       "      <td>52254.000000</td>\n",
       "      <td>12250.000000</td>\n",
       "      <td>12100.000000</td>\n",
       "    </tr>\n",
       "    <tr>\n",
       "      <th>75%</th>\n",
       "      <td>2013.000000</td>\n",
       "      <td>42.000000</td>\n",
       "      <td>99109.000000</td>\n",
       "      <td>18300.000000</td>\n",
       "      <td>18200.000000</td>\n",
       "    </tr>\n",
       "    <tr>\n",
       "      <th>max</th>\n",
       "      <td>2015.000000</td>\n",
       "      <td>49.000000</td>\n",
       "      <td>999999.000000</td>\n",
       "      <td>182000.000000</td>\n",
       "      <td>230000.000000</td>\n",
       "    </tr>\n",
       "  </tbody>\n",
       "</table>\n",
       "</div>"
      ],
      "text/plain": [
       "                year      condition       odometer            mmr  \\\n",
       "count  558837.000000  547017.000000  558743.000000  558799.000000   \n",
       "mean     2010.038927      30.672365   68320.017767   13769.377495   \n",
       "std         3.966864      13.402832   53398.542821    9679.967174   \n",
       "min      1982.000000       1.000000       1.000000      25.000000   \n",
       "25%      2007.000000      23.000000   28371.000000    7100.000000   \n",
       "50%      2012.000000      35.000000   52254.000000   12250.000000   \n",
       "75%      2013.000000      42.000000   99109.000000   18300.000000   \n",
       "max      2015.000000      49.000000  999999.000000  182000.000000   \n",
       "\n",
       "        sellingprice  \n",
       "count  558825.000000  \n",
       "mean    13611.358810  \n",
       "std      9749.501628  \n",
       "min         1.000000  \n",
       "25%      6900.000000  \n",
       "50%     12100.000000  \n",
       "75%     18200.000000  \n",
       "max    230000.000000  "
      ]
     },
     "execution_count": 5,
     "metadata": {},
     "output_type": "execute_result"
    }
   ],
   "source": [
    "df.describe()"
   ]
  },
  {
   "cell_type": "markdown",
   "metadata": {},
   "source": [
    "Key Points:\n",
    "\n",
    "Vehicle Year (year):\n",
    "- Vehicle year range: 1982-2015.\n",
    "- The majority of vehicles are from 2000-2015, with an average year of manufacture of 2010.\n",
    "\n",
    "Vehicle Condition (condition):\n",
    "- Vehicle condition varies with an average score of around 30.67.\n",
    "- Condition range: 1 (probably very bad) to 49 (probably very good).\n",
    "\n",
    "Mileage (Odometer):\n",
    "- The average vehicle mileage is 68,320 km.\n",
    "- Some vehicles have very low mileage (1 km), while others are close to 1 million km (999,999 km).\n",
    "\n",
    "Market Value (MMR):\n",
    "- The market value of the vehicle ranges from 25 USD to 182,000 USD, with an average of about 13,769 USD.\n",
    "- There are large fluctuations, with most vehicles having a market value of around 7,000-18,000 USD.\n",
    "\n",
    "Selling Price:\n",
    "- The selling price ranges from 1 USD to 230,000 USD, with an average of around 13,611 USD.\n",
    "- Most vehicles sell for between 6,900-18,200 USD."
   ]
  },
  {
   "cell_type": "code",
   "execution_count": 6,
   "metadata": {},
   "outputs": [
    {
     "data": {
      "text/plain": [
       "(549304, 16)"
      ]
     },
     "execution_count": 6,
     "metadata": {},
     "output_type": "execute_result"
    }
   ],
   "source": [
    "# berdasarkan dari analisis desrkripsi diatas, saya akan mengambil data penjualan mobil dari tahun 2000 - 2015\n",
    "df = df[(df['year']>= 2000)]\n",
    "df.shape"
   ]
  },
  {
   "cell_type": "markdown",
   "metadata": {},
   "source": [
    "## Exploratory Data Analysis (EDA)"
   ]
  },
  {
   "cell_type": "markdown",
   "metadata": {},
   "source": [
    "### Drop some value in dataset"
   ]
  },
  {
   "cell_type": "code",
   "execution_count": 7,
   "metadata": {},
   "outputs": [
    {
     "data": {
      "text/html": [
       "<div>\n",
       "<style scoped>\n",
       "    .dataframe tbody tr th:only-of-type {\n",
       "        vertical-align: middle;\n",
       "    }\n",
       "\n",
       "    .dataframe tbody tr th {\n",
       "        vertical-align: top;\n",
       "    }\n",
       "\n",
       "    .dataframe thead th {\n",
       "        text-align: right;\n",
       "    }\n",
       "</style>\n",
       "<table border=\"1\" class=\"dataframe\">\n",
       "  <thead>\n",
       "    <tr style=\"text-align: right;\">\n",
       "      <th></th>\n",
       "      <th>year</th>\n",
       "      <th>make</th>\n",
       "      <th>model</th>\n",
       "      <th>trim</th>\n",
       "      <th>body</th>\n",
       "      <th>transmission</th>\n",
       "      <th>condition</th>\n",
       "      <th>odometer</th>\n",
       "      <th>color</th>\n",
       "      <th>interior</th>\n",
       "      <th>seller</th>\n",
       "      <th>mmr</th>\n",
       "      <th>sellingprice</th>\n",
       "      <th>saledate</th>\n",
       "    </tr>\n",
       "  </thead>\n",
       "  <tbody>\n",
       "    <tr>\n",
       "      <th>0</th>\n",
       "      <td>2015</td>\n",
       "      <td>Kia</td>\n",
       "      <td>Sorento</td>\n",
       "      <td>LX</td>\n",
       "      <td>SUV</td>\n",
       "      <td>automatic</td>\n",
       "      <td>5.0</td>\n",
       "      <td>16639.0</td>\n",
       "      <td>white</td>\n",
       "      <td>black</td>\n",
       "      <td>kia motors america  inc</td>\n",
       "      <td>20500.0</td>\n",
       "      <td>21500.0</td>\n",
       "      <td>Tue Dec 16 2014 12:30:00 GMT-0800 (PST)</td>\n",
       "    </tr>\n",
       "    <tr>\n",
       "      <th>1</th>\n",
       "      <td>2015</td>\n",
       "      <td>Kia</td>\n",
       "      <td>Sorento</td>\n",
       "      <td>LX</td>\n",
       "      <td>SUV</td>\n",
       "      <td>automatic</td>\n",
       "      <td>5.0</td>\n",
       "      <td>9393.0</td>\n",
       "      <td>white</td>\n",
       "      <td>beige</td>\n",
       "      <td>kia motors america  inc</td>\n",
       "      <td>20800.0</td>\n",
       "      <td>21500.0</td>\n",
       "      <td>Tue Dec 16 2014 12:30:00 GMT-0800 (PST)</td>\n",
       "    </tr>\n",
       "    <tr>\n",
       "      <th>2</th>\n",
       "      <td>2014</td>\n",
       "      <td>BMW</td>\n",
       "      <td>3 Series</td>\n",
       "      <td>328i SULEV</td>\n",
       "      <td>Sedan</td>\n",
       "      <td>automatic</td>\n",
       "      <td>45.0</td>\n",
       "      <td>1331.0</td>\n",
       "      <td>gray</td>\n",
       "      <td>black</td>\n",
       "      <td>financial services remarketing (lease)</td>\n",
       "      <td>31900.0</td>\n",
       "      <td>30000.0</td>\n",
       "      <td>Thu Jan 15 2015 04:30:00 GMT-0800 (PST)</td>\n",
       "    </tr>\n",
       "    <tr>\n",
       "      <th>3</th>\n",
       "      <td>2015</td>\n",
       "      <td>Volvo</td>\n",
       "      <td>S60</td>\n",
       "      <td>T5</td>\n",
       "      <td>Sedan</td>\n",
       "      <td>automatic</td>\n",
       "      <td>41.0</td>\n",
       "      <td>14282.0</td>\n",
       "      <td>white</td>\n",
       "      <td>black</td>\n",
       "      <td>volvo na rep/world omni</td>\n",
       "      <td>27500.0</td>\n",
       "      <td>27750.0</td>\n",
       "      <td>Thu Jan 29 2015 04:30:00 GMT-0800 (PST)</td>\n",
       "    </tr>\n",
       "    <tr>\n",
       "      <th>4</th>\n",
       "      <td>2014</td>\n",
       "      <td>BMW</td>\n",
       "      <td>6 Series Gran Coupe</td>\n",
       "      <td>650i</td>\n",
       "      <td>Sedan</td>\n",
       "      <td>automatic</td>\n",
       "      <td>43.0</td>\n",
       "      <td>2641.0</td>\n",
       "      <td>gray</td>\n",
       "      <td>black</td>\n",
       "      <td>financial services remarketing (lease)</td>\n",
       "      <td>66000.0</td>\n",
       "      <td>67000.0</td>\n",
       "      <td>Thu Dec 18 2014 12:30:00 GMT-0800 (PST)</td>\n",
       "    </tr>\n",
       "  </tbody>\n",
       "</table>\n",
       "</div>"
      ],
      "text/plain": [
       "   year   make                model        trim   body transmission  \\\n",
       "0  2015    Kia              Sorento          LX    SUV    automatic   \n",
       "1  2015    Kia              Sorento          LX    SUV    automatic   \n",
       "2  2014    BMW             3 Series  328i SULEV  Sedan    automatic   \n",
       "3  2015  Volvo                  S60          T5  Sedan    automatic   \n",
       "4  2014    BMW  6 Series Gran Coupe        650i  Sedan    automatic   \n",
       "\n",
       "   condition  odometer  color interior  \\\n",
       "0        5.0   16639.0  white    black   \n",
       "1        5.0    9393.0  white    beige   \n",
       "2       45.0    1331.0   gray    black   \n",
       "3       41.0   14282.0  white    black   \n",
       "4       43.0    2641.0   gray    black   \n",
       "\n",
       "                                   seller      mmr  sellingprice  \\\n",
       "0                 kia motors america  inc  20500.0       21500.0   \n",
       "1                 kia motors america  inc  20800.0       21500.0   \n",
       "2  financial services remarketing (lease)  31900.0       30000.0   \n",
       "3                 volvo na rep/world omni  27500.0       27750.0   \n",
       "4  financial services remarketing (lease)  66000.0       67000.0   \n",
       "\n",
       "                                  saledate  \n",
       "0  Tue Dec 16 2014 12:30:00 GMT-0800 (PST)  \n",
       "1  Tue Dec 16 2014 12:30:00 GMT-0800 (PST)  \n",
       "2  Thu Jan 15 2015 04:30:00 GMT-0800 (PST)  \n",
       "3  Thu Jan 29 2015 04:30:00 GMT-0800 (PST)  \n",
       "4  Thu Dec 18 2014 12:30:00 GMT-0800 (PST)  "
      ]
     },
     "execution_count": 7,
     "metadata": {},
     "output_type": "execute_result"
    }
   ],
   "source": [
    "# Drop column yang tidak dibutuhkan\n",
    "df.drop(['vin','state'], axis=1, inplace=True)\n",
    "df.head()"
   ]
  },
  {
   "cell_type": "markdown",
   "metadata": {},
   "source": [
    "### Handle Missing Value"
   ]
  },
  {
   "cell_type": "code",
   "execution_count": 8,
   "metadata": {},
   "outputs": [
    {
     "data": {
      "text/plain": [
       "year                0\n",
       "make             9259\n",
       "model            9357\n",
       "trim             9561\n",
       "body            11767\n",
       "transmission    64016\n",
       "condition       11001\n",
       "odometer           84\n",
       "color             731\n",
       "interior          731\n",
       "seller              0\n",
       "mmr                38\n",
       "sellingprice       12\n",
       "saledate           12\n",
       "dtype: int64"
      ]
     },
     "execution_count": 8,
     "metadata": {},
     "output_type": "execute_result"
    }
   ],
   "source": [
    "df.isna().sum()"
   ]
  },
  {
   "cell_type": "code",
   "execution_count": 9,
   "metadata": {},
   "outputs": [
    {
     "data": {
      "text/plain": [
       "year            0\n",
       "make            0\n",
       "model           0\n",
       "trim            0\n",
       "body            0\n",
       "transmission    0\n",
       "condition       0\n",
       "odometer        0\n",
       "color           0\n",
       "interior        0\n",
       "seller          0\n",
       "mmr             0\n",
       "sellingprice    0\n",
       "saledate        0\n",
       "dtype: int64"
      ]
     },
     "execution_count": 9,
     "metadata": {},
     "output_type": "execute_result"
    }
   ],
   "source": [
    "numeric_columns = df.select_dtypes(include=['float64','int64']).columns\n",
    "cat_columns = df.select_dtypes(include=[object])\n",
    "\n",
    "df[numeric_columns].fillna(df[numeric_columns].mean(), inplace=True)\n",
    "\n",
    "for col in cat_columns:\n",
    "    mode_col = df[col].mode()[0]\n",
    "    df[col].fillna(mode_col, inplace=True)\n",
    "\n",
    "# Mengisi NaN di kolom numerik dengan median\n",
    "df['condition'].fillna(df['condition'].median(), inplace=True)\n",
    "df['odometer'].fillna(df['odometer'].median(), inplace=True)\n",
    "df['mmr'].fillna(df['mmr'].median(), inplace=True)\n",
    "df['sellingprice'].fillna(df['sellingprice'].median(), inplace=True)\n",
    "\n",
    "df.isna().sum()"
   ]
  },
  {
   "cell_type": "code",
   "execution_count": 10,
   "metadata": {},
   "outputs": [
    {
     "data": {
      "text/plain": [
       "(549304, 14)"
      ]
     },
     "execution_count": 10,
     "metadata": {},
     "output_type": "execute_result"
    }
   ],
   "source": [
    "df.shape"
   ]
  },
  {
   "cell_type": "markdown",
   "metadata": {},
   "source": [
    "### Change Format datetime"
   ]
  },
  {
   "cell_type": "code",
   "execution_count": 11,
   "metadata": {},
   "outputs": [
    {
     "data": {
      "text/html": [
       "<div>\n",
       "<style scoped>\n",
       "    .dataframe tbody tr th:only-of-type {\n",
       "        vertical-align: middle;\n",
       "    }\n",
       "\n",
       "    .dataframe tbody tr th {\n",
       "        vertical-align: top;\n",
       "    }\n",
       "\n",
       "    .dataframe thead th {\n",
       "        text-align: right;\n",
       "    }\n",
       "</style>\n",
       "<table border=\"1\" class=\"dataframe\">\n",
       "  <thead>\n",
       "    <tr style=\"text-align: right;\">\n",
       "      <th></th>\n",
       "      <th>year</th>\n",
       "      <th>make</th>\n",
       "      <th>model</th>\n",
       "      <th>trim</th>\n",
       "      <th>body</th>\n",
       "      <th>transmission</th>\n",
       "      <th>condition</th>\n",
       "      <th>odometer</th>\n",
       "      <th>color</th>\n",
       "      <th>interior</th>\n",
       "      <th>seller</th>\n",
       "      <th>mmr</th>\n",
       "      <th>sellingprice</th>\n",
       "      <th>saledate</th>\n",
       "    </tr>\n",
       "  </thead>\n",
       "  <tbody>\n",
       "    <tr>\n",
       "      <th>0</th>\n",
       "      <td>2015</td>\n",
       "      <td>Kia</td>\n",
       "      <td>Sorento</td>\n",
       "      <td>LX</td>\n",
       "      <td>SUV</td>\n",
       "      <td>automatic</td>\n",
       "      <td>5.0</td>\n",
       "      <td>16639.0</td>\n",
       "      <td>white</td>\n",
       "      <td>black</td>\n",
       "      <td>kia motors america  inc</td>\n",
       "      <td>20500.0</td>\n",
       "      <td>21500.0</td>\n",
       "      <td>Tue Dec 16 2014 12:30:00 GMT-0800 (PST)</td>\n",
       "    </tr>\n",
       "    <tr>\n",
       "      <th>1</th>\n",
       "      <td>2015</td>\n",
       "      <td>Kia</td>\n",
       "      <td>Sorento</td>\n",
       "      <td>LX</td>\n",
       "      <td>SUV</td>\n",
       "      <td>automatic</td>\n",
       "      <td>5.0</td>\n",
       "      <td>9393.0</td>\n",
       "      <td>white</td>\n",
       "      <td>beige</td>\n",
       "      <td>kia motors america  inc</td>\n",
       "      <td>20800.0</td>\n",
       "      <td>21500.0</td>\n",
       "      <td>Tue Dec 16 2014 12:30:00 GMT-0800 (PST)</td>\n",
       "    </tr>\n",
       "    <tr>\n",
       "      <th>2</th>\n",
       "      <td>2014</td>\n",
       "      <td>BMW</td>\n",
       "      <td>3 Series</td>\n",
       "      <td>328i SULEV</td>\n",
       "      <td>Sedan</td>\n",
       "      <td>automatic</td>\n",
       "      <td>45.0</td>\n",
       "      <td>1331.0</td>\n",
       "      <td>gray</td>\n",
       "      <td>black</td>\n",
       "      <td>financial services remarketing (lease)</td>\n",
       "      <td>31900.0</td>\n",
       "      <td>30000.0</td>\n",
       "      <td>Thu Jan 15 2015 04:30:00 GMT-0800 (PST)</td>\n",
       "    </tr>\n",
       "    <tr>\n",
       "      <th>3</th>\n",
       "      <td>2015</td>\n",
       "      <td>Volvo</td>\n",
       "      <td>S60</td>\n",
       "      <td>T5</td>\n",
       "      <td>Sedan</td>\n",
       "      <td>automatic</td>\n",
       "      <td>41.0</td>\n",
       "      <td>14282.0</td>\n",
       "      <td>white</td>\n",
       "      <td>black</td>\n",
       "      <td>volvo na rep/world omni</td>\n",
       "      <td>27500.0</td>\n",
       "      <td>27750.0</td>\n",
       "      <td>Thu Jan 29 2015 04:30:00 GMT-0800 (PST)</td>\n",
       "    </tr>\n",
       "    <tr>\n",
       "      <th>4</th>\n",
       "      <td>2014</td>\n",
       "      <td>BMW</td>\n",
       "      <td>6 Series Gran Coupe</td>\n",
       "      <td>650i</td>\n",
       "      <td>Sedan</td>\n",
       "      <td>automatic</td>\n",
       "      <td>43.0</td>\n",
       "      <td>2641.0</td>\n",
       "      <td>gray</td>\n",
       "      <td>black</td>\n",
       "      <td>financial services remarketing (lease)</td>\n",
       "      <td>66000.0</td>\n",
       "      <td>67000.0</td>\n",
       "      <td>Thu Dec 18 2014 12:30:00 GMT-0800 (PST)</td>\n",
       "    </tr>\n",
       "  </tbody>\n",
       "</table>\n",
       "</div>"
      ],
      "text/plain": [
       "   year   make                model        trim   body transmission  \\\n",
       "0  2015    Kia              Sorento          LX    SUV    automatic   \n",
       "1  2015    Kia              Sorento          LX    SUV    automatic   \n",
       "2  2014    BMW             3 Series  328i SULEV  Sedan    automatic   \n",
       "3  2015  Volvo                  S60          T5  Sedan    automatic   \n",
       "4  2014    BMW  6 Series Gran Coupe        650i  Sedan    automatic   \n",
       "\n",
       "   condition  odometer  color interior  \\\n",
       "0        5.0   16639.0  white    black   \n",
       "1        5.0    9393.0  white    beige   \n",
       "2       45.0    1331.0   gray    black   \n",
       "3       41.0   14282.0  white    black   \n",
       "4       43.0    2641.0   gray    black   \n",
       "\n",
       "                                   seller      mmr  sellingprice  \\\n",
       "0                 kia motors america  inc  20500.0       21500.0   \n",
       "1                 kia motors america  inc  20800.0       21500.0   \n",
       "2  financial services remarketing (lease)  31900.0       30000.0   \n",
       "3                 volvo na rep/world omni  27500.0       27750.0   \n",
       "4  financial services remarketing (lease)  66000.0       67000.0   \n",
       "\n",
       "                                  saledate  \n",
       "0  Tue Dec 16 2014 12:30:00 GMT-0800 (PST)  \n",
       "1  Tue Dec 16 2014 12:30:00 GMT-0800 (PST)  \n",
       "2  Thu Jan 15 2015 04:30:00 GMT-0800 (PST)  \n",
       "3  Thu Jan 29 2015 04:30:00 GMT-0800 (PST)  \n",
       "4  Thu Dec 18 2014 12:30:00 GMT-0800 (PST)  "
      ]
     },
     "execution_count": 11,
     "metadata": {},
     "output_type": "execute_result"
    }
   ],
   "source": [
    "df.head()"
   ]
  },
  {
   "cell_type": "code",
   "execution_count": 12,
   "metadata": {},
   "outputs": [
    {
     "name": "stdout",
     "output_type": "stream",
     "text": [
      "0        2014-12-16 12:30:00\n",
      "1        2014-12-16 12:30:00\n",
      "2        2015-01-15 04:30:00\n",
      "3        2015-01-29 04:30:00\n",
      "4        2014-12-18 12:30:00\n",
      "                 ...        \n",
      "558832   2015-07-09 07:00:00\n",
      "558833   2015-07-08 09:30:00\n",
      "558834   2015-07-08 09:30:00\n",
      "558835   2015-07-09 06:45:00\n",
      "558836   2015-05-28 05:30:00\n",
      "Name: saledate, Length: 549304, dtype: datetime64[ns]\n"
     ]
    }
   ],
   "source": [
    "# Fungsi untuk mengubah format dengan menghapus informasi zona waktu\n",
    "def remove_timezone(date_str):\n",
    "    # Menggunakan regex untuk menghapus bagian zona waktu (GMT-0800 (PST))\n",
    "    return re.sub(r' GMT.*', '', date_str)\n",
    "\n",
    "# Terapkan fungsi untuk membersihkan kolom saledate\n",
    "df['saledate'] = df['saledate'].apply(remove_timezone)\n",
    "\n",
    "# Sekarang ubah format menjadi datetime\n",
    "df['saledate'] = pd.to_datetime(df['saledate'], errors='coerce')\n",
    "\n",
    "# Tampilkan hasil\n",
    "print(df['saledate'])"
   ]
  },
  {
   "cell_type": "code",
   "execution_count": 13,
   "metadata": {},
   "outputs": [
    {
     "data": {
      "text/plain": [
       "year             0\n",
       "make             0\n",
       "model            0\n",
       "trim             0\n",
       "body             0\n",
       "transmission     0\n",
       "condition        0\n",
       "odometer         0\n",
       "color            0\n",
       "interior         0\n",
       "seller           0\n",
       "mmr              0\n",
       "sellingprice     0\n",
       "saledate        26\n",
       "dtype: int64"
      ]
     },
     "execution_count": 13,
     "metadata": {},
     "output_type": "execute_result"
    }
   ],
   "source": [
    "df.isna().sum()"
   ]
  },
  {
   "cell_type": "code",
   "execution_count": 14,
   "metadata": {},
   "outputs": [
    {
     "data": {
      "text/plain": [
       "year            0\n",
       "make            0\n",
       "model           0\n",
       "trim            0\n",
       "body            0\n",
       "transmission    0\n",
       "condition       0\n",
       "odometer        0\n",
       "color           0\n",
       "interior        0\n",
       "seller          0\n",
       "mmr             0\n",
       "sellingprice    0\n",
       "saledate        0\n",
       "dtype: int64"
      ]
     },
     "execution_count": 14,
     "metadata": {},
     "output_type": "execute_result"
    }
   ],
   "source": [
    "df['saledate'] = df['saledate'].fillna(df['saledate'].mean())\n",
    "df.isna().sum()"
   ]
  },
  {
   "cell_type": "markdown",
   "metadata": {},
   "source": [
    "### Change value color"
   ]
  },
  {
   "cell_type": "code",
   "execution_count": null,
   "metadata": {},
   "outputs": [
    {
     "data": {
      "text/plain": [
       "array(['white', 'gray', 'black', 'red', 'silver', 'blue', 'brown',\n",
       "       'beige', 'purple', 'burgundy', '—', 'gold', 'yellow', 'green',\n",
       "       'charcoal', 'orange', 'off-white', 'turquoise', 'pink', 'lime',\n",
       "       '4802', '9410', '1167', '2172', '14872', '12655', '15719', '6388',\n",
       "       '16633', '11034', '2711', '6864', '339', '18384', '9887', '9837',\n",
       "       '20379', '20627', '721', '6158', '2817', '5705', '18561', '2846',\n",
       "       '9562', '5001'], dtype=object)"
      ]
     },
     "execution_count": 15,
     "metadata": {},
     "output_type": "execute_result"
    }
   ],
   "source": [
    "df['color'].unique()"
   ]
  },
  {
   "cell_type": "code",
   "execution_count": 16,
   "metadata": {},
   "outputs": [
    {
     "name": "stdout",
     "output_type": "stream",
     "text": [
      "['white' 'gray' 'black' 'red' 'silver' 'blue' 'brown' 'beige' 'purple'\n",
      " 'burgundy' '—' 'gold' 'yellow' 'green' 'charcoal' 'orange' 'off-white'\n",
      " 'turquoise' 'pink' 'lime']\n"
     ]
    }
   ],
   "source": [
    "# Daftar pemetaan angka ke warna\n",
    "color_mapping = {\n",
    "    '4802': 'red', '9410': 'blue','1167': 'green','2172': 'yellow',\n",
    "    '14872': 'red', '12655': 'blue','15719': 'green','6388': 'yellow',\n",
    "    '16633': 'red', '11034': 'blue','2711': 'green','6864': 'yellow',\n",
    "    '339': 'red', '18384': 'blue','9887': 'green','9837': 'yellow',\n",
    "    '20379': 'red', '20627': 'blue','721': 'green','6158': 'yellow',\n",
    "    '2817': 'red', '5705': 'blue','18561': 'green','2846': 'yellow',\n",
    "    '9562': 'red', '5001': 'blue',\n",
    "}\n",
    "\n",
    "# Ganti nilai angka dengan warna yang sesuai dari pemetaan\n",
    "df['color'] = df['color'].replace(color_mapping)\n",
    "\n",
    "# Cek hasil setelah perubahan\n",
    "print(df['color'].unique())"
   ]
  },
  {
   "cell_type": "markdown",
   "metadata": {},
   "source": [
    "### Analyse the sales price of the most expensive and cheapest cars"
   ]
  },
  {
   "cell_type": "code",
   "execution_count": 17,
   "metadata": {},
   "outputs": [
    {
     "data": {
      "text/html": [
       "<div>\n",
       "<style scoped>\n",
       "    .dataframe tbody tr th:only-of-type {\n",
       "        vertical-align: middle;\n",
       "    }\n",
       "\n",
       "    .dataframe tbody tr th {\n",
       "        vertical-align: top;\n",
       "    }\n",
       "\n",
       "    .dataframe thead th {\n",
       "        text-align: right;\n",
       "    }\n",
       "</style>\n",
       "<table border=\"1\" class=\"dataframe\">\n",
       "  <thead>\n",
       "    <tr style=\"text-align: right;\">\n",
       "      <th></th>\n",
       "      <th>year</th>\n",
       "      <th>make</th>\n",
       "      <th>model</th>\n",
       "      <th>trim</th>\n",
       "      <th>body</th>\n",
       "      <th>transmission</th>\n",
       "      <th>condition</th>\n",
       "      <th>odometer</th>\n",
       "      <th>color</th>\n",
       "      <th>interior</th>\n",
       "      <th>seller</th>\n",
       "      <th>mmr</th>\n",
       "      <th>sellingprice</th>\n",
       "      <th>saledate</th>\n",
       "    </tr>\n",
       "  </thead>\n",
       "  <tbody>\n",
       "    <tr>\n",
       "      <th>0</th>\n",
       "      <td>2015</td>\n",
       "      <td>Kia</td>\n",
       "      <td>Sorento</td>\n",
       "      <td>LX</td>\n",
       "      <td>SUV</td>\n",
       "      <td>automatic</td>\n",
       "      <td>5.0</td>\n",
       "      <td>16639.0</td>\n",
       "      <td>white</td>\n",
       "      <td>black</td>\n",
       "      <td>kia motors america  inc</td>\n",
       "      <td>20500.0</td>\n",
       "      <td>21500.0</td>\n",
       "      <td>2014-12-16 12:30:00</td>\n",
       "    </tr>\n",
       "    <tr>\n",
       "      <th>1</th>\n",
       "      <td>2015</td>\n",
       "      <td>Kia</td>\n",
       "      <td>Sorento</td>\n",
       "      <td>LX</td>\n",
       "      <td>SUV</td>\n",
       "      <td>automatic</td>\n",
       "      <td>5.0</td>\n",
       "      <td>9393.0</td>\n",
       "      <td>white</td>\n",
       "      <td>beige</td>\n",
       "      <td>kia motors america  inc</td>\n",
       "      <td>20800.0</td>\n",
       "      <td>21500.0</td>\n",
       "      <td>2014-12-16 12:30:00</td>\n",
       "    </tr>\n",
       "    <tr>\n",
       "      <th>2</th>\n",
       "      <td>2014</td>\n",
       "      <td>BMW</td>\n",
       "      <td>3 Series</td>\n",
       "      <td>328i SULEV</td>\n",
       "      <td>Sedan</td>\n",
       "      <td>automatic</td>\n",
       "      <td>45.0</td>\n",
       "      <td>1331.0</td>\n",
       "      <td>gray</td>\n",
       "      <td>black</td>\n",
       "      <td>financial services remarketing (lease)</td>\n",
       "      <td>31900.0</td>\n",
       "      <td>30000.0</td>\n",
       "      <td>2015-01-15 04:30:00</td>\n",
       "    </tr>\n",
       "  </tbody>\n",
       "</table>\n",
       "</div>"
      ],
      "text/plain": [
       "   year make     model        trim   body transmission  condition  odometer  \\\n",
       "0  2015  Kia   Sorento          LX    SUV    automatic        5.0   16639.0   \n",
       "1  2015  Kia   Sorento          LX    SUV    automatic        5.0    9393.0   \n",
       "2  2014  BMW  3 Series  328i SULEV  Sedan    automatic       45.0    1331.0   \n",
       "\n",
       "   color interior                                  seller      mmr  \\\n",
       "0  white    black                 kia motors america  inc  20500.0   \n",
       "1  white    beige                 kia motors america  inc  20800.0   \n",
       "2   gray    black  financial services remarketing (lease)  31900.0   \n",
       "\n",
       "   sellingprice            saledate  \n",
       "0       21500.0 2014-12-16 12:30:00  \n",
       "1       21500.0 2014-12-16 12:30:00  \n",
       "2       30000.0 2015-01-15 04:30:00  "
      ]
     },
     "execution_count": 17,
     "metadata": {},
     "output_type": "execute_result"
    }
   ],
   "source": [
    "df.head(3)"
   ]
  },
  {
   "cell_type": "code",
   "execution_count": 18,
   "metadata": {},
   "outputs": [
    {
     "name": "stdout",
     "output_type": "stream",
     "text": [
      "Harga Merek Mobil Termahal:\n",
      " make\n",
      "Ford         1.449757e+09\n",
      "Chevrolet    7.201026e+08\n",
      "Nissan       6.328781e+08\n",
      "Toyota       4.868272e+08\n",
      "BMW          4.437567e+08\n",
      "Name: sellingprice, dtype: float64\n",
      "\n",
      "Harga Merek Mobil Termurah:\n",
      " make\n",
      "Daewoo        1200.0\n",
      "plymouth      1900.0\n",
      "chev truck    2000.0\n",
      "hyundai tk    2100.0\n",
      "ford tk       2800.0\n",
      "Name: sellingprice, dtype: float64\n"
     ]
    }
   ],
   "source": [
    "max_sale = df.groupby('make')\n",
    "\n",
    "max_yr = max_sale['sellingprice'].sum()\n",
    "make_sale_high = max_yr.sort_values(ascending=False)\n",
    "print('Harga Merek Mobil Termahal:\\n', make_sale_high.head())\n",
    "\n",
    "make_sale_lowest = max_yr.sort_values(ascending=True)\n",
    "print('\\nHarga Merek Mobil Termurah:\\n', make_sale_lowest.head())"
   ]
  },
  {
   "cell_type": "markdown",
   "metadata": {},
   "source": [
    "Information:\n",
    "- Top 5 most expensive car brands are Ford, Chevrolet, Nissan, Toyota, and BMW\n",
    "- Top 5 cheapest car brands are Daewoo, plymouth, chev truck, hyundai tk, and ford tk\n",
    "- The most expensive car is ford with a price of around 1.45 billion\n",
    "- Daewoo cars have the lowest price of 1,200"
   ]
  },
  {
   "cell_type": "markdown",
   "metadata": {},
   "source": [
    "### Average Mobile price by transmission type"
   ]
  },
  {
   "cell_type": "code",
   "execution_count": 19,
   "metadata": {},
   "outputs": [
    {
     "data": {
      "text/plain": [
       "transmission\n",
       "Sedan        13686.363636\n",
       "automatic    13894.203089\n",
       "manual       11644.077653\n",
       "sedan        13650.000000\n",
       "Name: sellingprice, dtype: float64"
      ]
     },
     "execution_count": 19,
     "metadata": {},
     "output_type": "execute_result"
    }
   ],
   "source": [
    "color_group = df.groupby('transmission')\n",
    "type_group = color_group['sellingprice'].mean()\n",
    "type_group"
   ]
  },
  {
   "cell_type": "markdown",
   "metadata": {},
   "source": [
    "Information:\n",
    "- Automatic transmission: The highest average price, approximately USD 13,894.20.\n",
    "- Manual transmission: The average price is lower, around USD 11,644.08.\n",
    "- Sedans and saloons have almost the same price, around USD 13,650.00.\n",
    "- Cars with automatic transmissions tend to have a higher selling price.\n",
    "- Cars with manual transmissions are cheaper on average than those with automatic transmissions."
   ]
  },
  {
   "cell_type": "markdown",
   "metadata": {},
   "source": [
    "### Most expensive car sales per year"
   ]
  },
  {
   "cell_type": "code",
   "execution_count": 20,
   "metadata": {},
   "outputs": [
    {
     "data": {
      "text/plain": [
       "year\n",
       "2013    1.715602e+09\n",
       "2012    1.703920e+09\n",
       "2014    1.628697e+09\n",
       "2011    7.695672e+08\n",
       "2010    3.287438e+08\n",
       "2008    2.995227e+08\n",
       "2007    2.474377e+08\n",
       "2015    2.447214e+08\n",
       "2009    2.154609e+08\n",
       "2006    1.665970e+08\n",
       "2005    1.047020e+08\n",
       "2004    7.494301e+07\n",
       "2003    4.578318e+07\n",
       "2002    2.537276e+07\n",
       "2001    1.378340e+07\n",
       "2000    9.554089e+06\n",
       "Name: sellingprice, dtype: float64"
      ]
     },
     "execution_count": 20,
     "metadata": {},
     "output_type": "execute_result"
    }
   ],
   "source": [
    "group_year = df.groupby('year')['sellingprice'].sum()\n",
    "sale_year = group_year.sort_values(ascending=False)\n",
    "sale_year"
   ]
  },
  {
   "cell_type": "markdown",
   "metadata": {},
   "source": [
    "Information:\n",
    "- 2013: Car sales reached approximately USD 1.72 billion, becoming the highest ever.\n",
    "- 2000: Car sales were only about USD 9.55 million, which was the lowest in the period.\n",
    "- Automobile sales peaked in 2013 and 2012, while 2000 and 2001 saw significant declines in sales."
   ]
  },
  {
   "cell_type": "markdown",
   "metadata": {},
   "source": [
    "## Visualisasi Data"
   ]
  },
  {
   "cell_type": "markdown",
   "metadata": {},
   "source": [
    "### Visualisasi Bar Plot"
   ]
  },
  {
   "cell_type": "code",
   "execution_count": 21,
   "metadata": {},
   "outputs": [
    {
     "data": {
      "image/png": "[encoded data removed]",
      "text/plain": [
       "<Figure size 800x400 with 1 Axes>"
      ]
     },
     "metadata": {},
     "output_type": "display_data"
    }
   ],
   "source": [
    "# Barplot Graph\n",
    "\n",
    "plt.figure(figsize=(8,4))\n",
    "df['year'].value_counts().plot(kind='bar', fontsize=7)\n",
    "plt.title('Distribusi Data Penjualan Tiap Tahun')\n",
    "plt.xlabel('year')\n",
    "plt.ylabel('Frequency')\n",
    "plt.show()"
   ]
  },
  {
   "cell_type": "markdown",
   "metadata": {},
   "source": [
    "Information:\n",
    "- The most sales were in 2012 and 2013\n",
    "- lowest sales were in 2000"
   ]
  },
  {
   "cell_type": "code",
   "execution_count": 22,
   "metadata": {},
   "outputs": [
    {
     "data": {
      "image/png": "[encoded data removed]",
      "text/plain": [
       "<Figure size 800x400 with 1 Axes>"
      ]
     },
     "metadata": {},
     "output_type": "display_data"
    }
   ],
   "source": [
    "# Barplot Graph\n",
    "\n",
    "plt.figure(figsize=(8,4))\n",
    "df['transmission'].value_counts().plot(kind='bar', fontsize=7)\n",
    "plt.title('Distribusi Penjualan Jenis Mobil (Transmission)')\n",
    "plt.xlabel('transmission')\n",
    "plt.ylabel('Frequency')\n",
    "plt.show()"
   ]
  },
  {
   "cell_type": "markdown",
   "metadata": {},
   "source": [
    "Information:\n",
    "- Automatic car types have a very high number of sales compared to other types."
   ]
  },
  {
   "cell_type": "code",
   "execution_count": 23,
   "metadata": {},
   "outputs": [
    {
     "data": {
      "application/vnd.plotly.v1+json": {
       "config": {
        "plotlyServerURL": "https://plot.ly"
       },
       "data": [
        {
         "hovertemplate": "make=Acura<br>year=%{x}<br>counts=%{y}<extra></extra>",
         "legendgroup": "Acura",
         "marker": {
          "color": "#636efa",
          "pattern": {
           "shape": ""
          }
         },
         "name": "Acura",
         "orientation": "v",
         "showlegend": true,
         "textfont": {
          "size": 20
         },
         "textposition": "auto",
         "type": "bar",
         "x": {
          "bdata": "0AfXB9kH1gfaB9UH2wfUB9wH3QfTB9IH3gfRB98H2Ac=",
          "dtype": "i2"
         },
         "xaxis": "x",
         "y": {
          "bdata": "VQCRAfEAmwH7AHUBHgF1AV0HJQEoAa0AtwB9ABYAXwE=",
          "dtype": "i2"
         },
         "yaxis": "y"
        },
        {
         "hovertemplate": "make=Aston Martin<br>year=%{x}<br>counts=%{y}<extra></extra>",
         "legendgroup": "Aston Martin",
         "marker": {
          "color": "#EF553B",
          "pattern": {
           "shape": ""
          }
         },
         "name": "Aston Martin",
         "orientation": "v",
         "showlegend": true,
         "textfont": {
          "size": 20
         },
         "textposition": "auto",
         "type": "bar",
         "x": {
          "bdata": "2wfYB9YH2QfXBw==",
          "dtype": "i2"
         },
         "xaxis": "x",
         "y": {
          "bdata": "AgUDAg0=",
          "dtype": "i1"
         },
         "yaxis": "y"
        },
        {
         "hovertemplate": "make=Audi<br>year=%{x}<br>counts=%{y}<extra></extra>",
         "legendgroup": "Audi",
         "marker": {
          "color": "#00cc96",
          "pattern": {
           "shape": ""
          }
         },
         "name": "Audi",
         "orientation": "v",
         "showlegend": true,
         "textfont": {
          "size": 20
         },
         "textposition": "auto",
         "type": "bar",
         "x": {
          "bdata": "3QffB9AH2AfWB9MH0QfcB9oH1wfVB9kH0gfbB94H1Ac=",
          "dtype": "i2"
         },
         "xaxis": "x",
         "y": {
          "bdata": "xAJ+AB0A0wFBAa4AcgCwBDAB1gEGAZoBbACnAcQB/QA=",
          "dtype": "i2"
         },
         "yaxis": "y"
        },
        {
         "hovertemplate": "make=BMW<br>year=%{x}<br>counts=%{y}<extra></extra>",
         "legendgroup": "BMW",
         "marker": {
          "color": "#ab63fa",
          "pattern": {
           "shape": ""
          }
         },
         "name": "BMW",
         "orientation": "v",
         "showlegend": true,
         "textfont": {
          "size": 20
         },
         "textposition": "auto",
         "type": "bar",
         "x": {
          "bdata": "3QfRB9kH0wfQB9IH2AfeB9UH1wffB9sH1gfcB9oH1Ac=",
          "dtype": "i2"
         },
         "xaxis": "x",
         "y": {
          "bdata": "BQdDAYADEwLWAH0B8AagBqkC/AWSAqcKzAX6EHgC9gI=",
          "dtype": "i2"
         },
         "yaxis": "y"
        },
        {
         "hovertemplate": "make=Bentley<br>year=%{x}<br>counts=%{y}<extra></extra>",
         "legendgroup": "Bentley",
         "marker": {
          "color": "#FFA15A",
          "pattern": {
           "shape": ""
          }
         },
         "name": "Bentley",
         "orientation": "v",
         "showlegend": true,
         "textfont": {
          "size": 20
         },
         "textposition": "auto",
         "type": "bar",
         "x": {
          "bdata": "1wfVB9sH2gfZB9QH3gfdB9gH1gfcBw==",
          "dtype": "i2"
         },
         "xaxis": "x",
         "y": {
          "bdata": "GhIDAgQDAgsNFgw=",
          "dtype": "i1"
         },
         "yaxis": "y"
        },
        {
         "hovertemplate": "make=Buick<br>year=%{x}<br>counts=%{y}<extra></extra>",
         "legendgroup": "Buick",
         "marker": {
          "color": "#19d3f3",
          "pattern": {
           "shape": ""
          }
         },
         "name": "Buick",
         "orientation": "v",
         "showlegend": true,
         "textfont": {
          "size": 20
         },
         "textposition": "auto",
         "type": "bar",
         "x": {
          "bdata": "3AfZB9AH1AfTB9oH2wfSB9UH1gfeB90H0QffB9gH1wc=",
          "dtype": "i2"
         },
         "xaxis": "x",
         "y": {
          "bdata": "WQLMAGgA1wCzABcB3gHMAEgBTQHOASACUwB6AK8BLwE=",
          "dtype": "i2"
         },
         "yaxis": "y"
        },
        {
         "hovertemplate": "make=Cadillac<br>year=%{x}<br>counts=%{y}<extra></extra>",
         "legendgroup": "Cadillac",
         "marker": {
          "color": "#FF6692",
          "pattern": {
           "shape": ""
          }
         },
         "name": "Cadillac",
         "orientation": "v",
         "showlegend": true,
         "textfont": {
          "size": 20
         },
         "textposition": "auto",
         "type": "bar",
         "x": {
          "bdata": "1wfZB9QH0QfaB98H0gfYB9AH0wfWB9UH2wfcB90H3gc=",
          "dtype": "i2"
         },
         "xaxis": "x",
         "y": {
          "bdata": "uQN9AWoBZwCPAT4AsgClAnIAVgGNAvsB7AKVA1ICMgE=",
          "dtype": "i2"
         },
         "yaxis": "y"
        },
        {
         "hovertemplate": "make=Chevrolet<br>year=%{x}<br>counts=%{y}<extra></extra>",
         "legendgroup": "Chevrolet",
         "marker": {
          "color": "#B6E880",
          "pattern": {
           "shape": ""
          }
         },
         "name": "Chevrolet",
         "orientation": "v",
         "showlegend": true,
         "textfont": {
          "size": 20
         },
         "textposition": "auto",
         "type": "bar",
         "x": {
          "bdata": "1wfQB9EH1AfZB9UH1gfeB9oH2AfSB90H3AfbB98H0wc=",
          "dtype": "i2"
         },
         "xaxis": "x",
         "y": {
          "bdata": "Lw+tAboCsQaeC3wKoAqFJEEOTw+IBJgq0RwjFZsFBgU=",
          "dtype": "i2"
         },
         "yaxis": "y"
        },
        {
         "hovertemplate": "make=Chrysler<br>year=%{x}<br>counts=%{y}<extra></extra>",
         "legendgroup": "Chrysler",
         "marker": {
          "color": "#FF97FF",
          "pattern": {
           "shape": ""
          }
         },
         "name": "Chrysler",
         "orientation": "v",
         "showlegend": true,
         "textfont": {
          "size": 20
         },
         "textposition": "auto",
         "type": "bar",
         "x": {
          "bdata": "3QfZB9wH2gfWB9cH1AfSB9sH2AfeB9MH0AfVB9EH3wc=",
          "dtype": "i2"
         },
         "xaxis": "x",
         "y": {
          "bdata": "Qwv7AcsFAQPZBDkFggGGABwCEQV5EsIASQC2A6QA6wE=",
          "dtype": "i2"
         },
         "yaxis": "y"
        },
        {
         "hovertemplate": "make=Daewoo<br>year=%{x}<br>counts=%{y}<extra></extra>",
         "legendgroup": "Daewoo",
         "marker": {
          "color": "#FECB52",
          "pattern": {
           "shape": ""
          }
         },
         "name": "Daewoo",
         "orientation": "v",
         "showlegend": true,
         "textfont": {
          "size": 20
         },
         "textposition": "auto",
         "type": "bar",
         "x": {
          "bdata": "0Qc=",
          "dtype": "i2"
         },
         "xaxis": "x",
         "y": {
          "bdata": "Aw==",
          "dtype": "i1"
         },
         "yaxis": "y"
        },
        {
         "hovertemplate": "make=Dodge<br>year=%{x}<br>counts=%{y}<extra></extra>",
         "legendgroup": "Dodge",
         "marker": {
          "color": "#636efa",
          "pattern": {
           "shape": ""
          }
         },
         "name": "Dodge",
         "orientation": "v",
         "showlegend": true,
         "textfont": {
          "size": 20
         },
         "textposition": "auto",
         "type": "bar",
         "x": {
          "bdata": "0wfdB9YH2QfVB94H2AfbB9oH3wfUB9IH0AfRB9wH1wc=",
          "dtype": "i2"
         },
         "xaxis": "x",
         "y": {
          "bdata": "+gHeFm0GigXOBZsa2QhEBk4K9gBiAycBLwC1AJUL0gY=",
          "dtype": "i2"
         },
         "yaxis": "y"
        },
        {
         "hovertemplate": "make=FIAT<br>year=%{x}<br>counts=%{y}<extra></extra>",
         "legendgroup": "FIAT",
         "marker": {
          "color": "#EF553B",
          "pattern": {
           "shape": ""
          }
         },
         "name": "FIAT",
         "orientation": "v",
         "showlegend": true,
         "textfont": {
          "size": 20
         },
         "textposition": "auto",
         "type": "bar",
         "x": {
          "bdata": "3AfeB90H3wc=",
          "dtype": "i2"
         },
         "xaxis": "x",
         "y": {
          "bdata": "6wBuAQMBBQA=",
          "dtype": "i2"
         },
         "yaxis": "y"
        },
        {
         "hovertemplate": "make=Ferrari<br>year=%{x}<br>counts=%{y}<extra></extra>",
         "legendgroup": "Ferrari",
         "marker": {
          "color": "#00cc96",
          "pattern": {
           "shape": ""
          }
         },
         "name": "Ferrari",
         "orientation": "v",
         "showlegend": true,
         "textfont": {
          "size": 20
         },
         "textposition": "auto",
         "type": "bar",
         "x": {
          "bdata": "1wfaB9sH3AfVB9QH2Ac=",
          "dtype": "i2"
         },
         "xaxis": "x",
         "y": {
          "bdata": "AgYBBwEBAQ==",
          "dtype": "i1"
         },
         "yaxis": "y"
        },
        {
         "hovertemplate": "make=Fisker<br>year=%{x}<br>counts=%{y}<extra></extra>",
         "legendgroup": "Fisker",
         "marker": {
          "color": "#ab63fa",
          "pattern": {
           "shape": ""
          }
         },
         "name": "Fisker",
         "orientation": "v",
         "showlegend": true,
         "textfont": {
          "size": 20
         },
         "textposition": "auto",
         "type": "bar",
         "x": {
          "bdata": "3Ac=",
          "dtype": "i2"
         },
         "xaxis": "x",
         "y": {
          "bdata": "CQ==",
          "dtype": "i1"
         },
         "yaxis": "y"
        },
        {
         "hovertemplate": "make=Ford<br>year=%{x}<br>counts=%{y}<extra></extra>",
         "legendgroup": "Ford",
         "marker": {
          "color": "#FFA15A",
          "pattern": {
           "shape": ""
          }
         },
         "name": "Ford",
         "orientation": "v",
         "showlegend": true,
         "textfont": {
          "size": 20
         },
         "textposition": "auto",
         "type": "bar",
         "x": {
          "bdata": "3wfQB9EH1wfSB9kH2gfcB9QH2AfdB9MH3gfWB9sH1Qc=",
          "dtype": "i2"
         },
         "xaxis": "x",
         "y": {
          "bdata": "tATfBDEEKhIUBlAJ9RGGQdkKrRFyV9cIGU5OEmQfIQ4=",
          "dtype": "i2"
         },
         "yaxis": "y"
        },
        {
         "hovertemplate": "make=GMC<br>year=%{x}<br>counts=%{y}<extra></extra>",
         "legendgroup": "GMC",
         "marker": {
          "color": "#19d3f3",
          "pattern": {
           "shape": ""
          }
         },
         "name": "GMC",
         "orientation": "v",
         "showlegend": true,
         "textfont": {
          "size": 20
         },
         "textposition": "auto",
         "type": "bar",
         "x": {
          "bdata": "1gfeB98H2wfVB9IH1wfaB9EH1AfYB9wH0wfdB9AH2Qc=",
          "dtype": "i2"
         },
         "xaxis": "x",
         "y": {
          "bdata": "qgGkBfEAWARGAvwAGQScAnQA9QH8A+0EfgFcAz0ANQI=",
          "dtype": "i2"
         },
         "yaxis": "y"
        },
        {
         "hovertemplate": "make=HUMMER<br>year=%{x}<br>counts=%{y}<extra></extra>",
         "legendgroup": "HUMMER",
         "marker": {
          "color": "#FF6692",
          "pattern": {
           "shape": ""
          }
         },
         "name": "HUMMER",
         "orientation": "v",
         "showlegend": true,
         "textfont": {
          "size": 20
         },
         "textposition": "auto",
         "type": "bar",
         "x": {
          "bdata": "2AfTB9UH1wfZB9QH0QfaB9YH",
          "dtype": "i2"
         },
         "xaxis": "x",
         "y": {
          "bdata": "fwBTAFEAugAJADYAAQADAAUB",
          "dtype": "i2"
         },
         "yaxis": "y"
        },
        {
         "hovertemplate": "make=Honda<br>year=%{x}<br>counts=%{y}<extra></extra>",
         "legendgroup": "Honda",
         "marker": {
          "color": "#B6E880",
          "pattern": {
           "shape": ""
          }
         },
         "name": "Honda",
         "orientation": "v",
         "showlegend": true,
         "textfont": {
          "size": 20
         },
         "textposition": "auto",
         "type": "bar",
         "x": {
          "bdata": "2QfTB9sH3gffB9oH3QfWB9IH1AfVB9AH1wfRB9wH2Ac=",
          "dtype": "i2"
         },
         "xaxis": "x",
         "y": {
          "bdata": "3gSOBMoGtgRNAHoF6Qk2BOcCowMHBKwBVQY1AuwhhQY=",
          "dtype": "i2"
         },
         "yaxis": "y"
        },
        {
         "hovertemplate": "make=Hyundai<br>year=%{x}<br>counts=%{y}<extra></extra>",
         "legendgroup": "Hyundai",
         "marker": {
          "color": "#FF97FF",
          "pattern": {
           "shape": ""
          }
         },
         "name": "Hyundai",
         "orientation": "v",
         "showlegend": true,
         "textfont": {
          "size": 20
         },
         "textposition": "auto",
         "type": "bar",
         "x": {
          "bdata": "2gfWB9wH2QfXB90H3wfQB9IH1QfeB9gH1AfTB9EH2wc=",
          "dtype": "i2"
         },
         "xaxis": "x",
         "y": {
          "bdata": "awN8AhoRywJbAsoe+AE0AN4AsgEXChgCTwEmAVwAigY=",
          "dtype": "i2"
         },
         "yaxis": "y"
        },
        {
         "hovertemplate": "make=Infiniti<br>year=%{x}<br>counts=%{y}<extra></extra>",
         "legendgroup": "Infiniti",
         "marker": {
          "color": "#FECB52",
          "pattern": {
           "shape": ""
          }
         },
         "name": "Infiniti",
         "orientation": "v",
         "showlegend": true,
         "textfont": {
          "size": 20
         },
         "textposition": "auto",
         "type": "bar",
         "x": {
          "bdata": "0AfTB90H1QfaB9cH0QfcB9QH3gfSB9gH3wfZB9sH1gc=",
          "dtype": "i2"
         },
         "xaxis": "x",
         "y": {
          "bdata": "IgAgAZQQJwGXADgBTwBwEYUB6gM/AKoBCgDDACELtAE=",
          "dtype": "i2"
         },
         "yaxis": "y"
        },
        {
         "hovertemplate": "make=Isuzu<br>year=%{x}<br>counts=%{y}<extra></extra>",
         "legendgroup": "Isuzu",
         "marker": {
          "color": "#636efa",
          "pattern": {
           "shape": ""
          }
         },
         "name": "Isuzu",
         "orientation": "v",
         "showlegend": true,
         "textfont": {
          "size": 20
         },
         "textposition": "auto",
         "type": "bar",
         "x": {
          "bdata": "0wfXB9UH0QfUB9YH0gfYB9AH",
          "dtype": "i2"
         },
         "xaxis": "x",
         "y": {
          "bdata": "DgcKJBcSEwMZ",
          "dtype": "i1"
         },
         "yaxis": "y"
        },
        {
         "hovertemplate": "make=Jaguar<br>year=%{x}<br>counts=%{y}<extra></extra>",
         "legendgroup": "Jaguar",
         "marker": {
          "color": "#EF553B",
          "pattern": {
           "shape": ""
          }
         },
         "name": "Jaguar",
         "orientation": "v",
         "showlegend": true,
         "textfont": {
          "size": 20
         },
         "textposition": "auto",
         "type": "bar",
         "x": {
          "bdata": "1gfVB9oH1wfYB9kH1AfTB98H0AfcB9sH3gfRB90H0gc=",
          "dtype": "i2"
         },
         "xaxis": "x",
         "y": {
          "bdata": "QABaAC4AOgAjAGoAbgB2AA8APAC7APQAQAAvAEQASQA=",
          "dtype": "i2"
         },
         "yaxis": "y"
        },
        {
         "hovertemplate": "make=Jeep<br>year=%{x}<br>counts=%{y}<extra></extra>",
         "legendgroup": "Jeep",
         "marker": {
          "color": "#00cc96",
          "pattern": {
           "shape": ""
          }
         },
         "name": "Jeep",
         "orientation": "v",
         "showlegend": true,
         "textfont": {
          "size": 20
         },
         "textposition": "auto",
         "type": "bar",
         "x": {
          "bdata": "3QfTB9oH1gfYB9AH0gfRB9UH2wfeB98H2QfXB9QH3Ac=",
          "dtype": "i2"
         },
         "xaxis": "x",
         "y": {
          "bdata": "fAM5AWADowPMBHEAcwFQAAADNQXWDEwB9gHIBMMC4Qg=",
          "dtype": "i2"
         },
         "yaxis": "y"
        },
        {
         "hovertemplate": "make=Kia<br>year=%{x}<br>counts=%{y}<extra></extra>",
         "legendgroup": "Kia",
         "marker": {
          "color": "#ab63fa",
          "pattern": {
           "shape": ""
          }
         },
         "name": "Kia",
         "orientation": "v",
         "showlegend": true,
         "textfont": {
          "size": 20
         },
         "textposition": "auto",
         "type": "bar",
         "x": {
          "bdata": "3AfTB9oH0gfWB9gH0QfeB98H1wfdB9kH0AfVB9sH1Ac=",
          "dtype": "i2"
         },
         "xaxis": "x",
         "y": {
          "bdata": "HQqTAM4CWgDGAQgCIAAdGMoFbgHkCwMCEABWAToF9QA=",
          "dtype": "i2"
         },
         "yaxis": "y"
        },
        {
         "hovertemplate": "make=Lamborghini<br>year=%{x}<br>counts=%{y}<extra></extra>",
         "legendgroup": "Lamborghini",
         "marker": {
          "color": "#FFA15A",
          "pattern": {
           "shape": ""
          }
         },
         "name": "Lamborghini",
         "orientation": "v",
         "showlegend": true,
         "textfont": {
          "size": 20
         },
         "textposition": "auto",
         "type": "bar",
         "x": {
          "bdata": "1wfYBw==",
          "dtype": "i2"
         },
         "xaxis": "x",
         "y": {
          "bdata": "AwE=",
          "dtype": "i1"
         },
         "yaxis": "y"
        },
        {
         "hovertemplate": "make=Land Rover<br>year=%{x}<br>counts=%{y}<extra></extra>",
         "legendgroup": "Land Rover",
         "marker": {
          "color": "#19d3f3",
          "pattern": {
           "shape": ""
          }
         },
         "name": "Land Rover",
         "orientation": "v",
         "showlegend": true,
         "textfont": {
          "size": 20
         },
         "textposition": "auto",
         "type": "bar",
         "x": {
          "bdata": "3QfRB9MH2wfVB9wH1AfeB9oH3wfQB9gH0gfZBw==",
          "dtype": "i2"
         },
         "xaxis": "x",
         "y": {
          "bdata": "4QAPAA4AggEJAC8BCACBAJYACAAWAEMBIQBaAA==",
          "dtype": "i2"
         },
         "yaxis": "y"
        },
        {
         "hovertemplate": "make=Lexus<br>year=%{x}<br>counts=%{y}<extra></extra>",
         "legendgroup": "Lexus",
         "marker": {
          "color": "#FF6692",
          "pattern": {
           "shape": ""
          }
         },
         "name": "Lexus",
         "orientation": "v",
         "showlegend": true,
         "textfont": {
          "size": 20
         },
         "textposition": "auto",
         "type": "bar",
         "x": {
          "bdata": "1gfdB98H1QfRB9AH0wfUB9IH1wfeB9wH2QfaB9sH2Ac=",
          "dtype": "i2"
         },
         "xaxis": "x",
         "y": {
          "bdata": "TwIWCGAAzwDGAIEA4gBOAmoBkQNnAsUKJQFjAgUE+AI=",
          "dtype": "i2"
         },
         "yaxis": "y"
        },
        {
         "hovertemplate": "make=Lincoln<br>year=%{x}<br>counts=%{y}<extra></extra>",
         "legendgroup": "Lincoln",
         "marker": {
          "color": "#B6E880",
          "pattern": {
           "shape": ""
          }
         },
         "name": "Lincoln",
         "orientation": "v",
         "showlegend": true,
         "textfont": {
          "size": 20
         },
         "textposition": "auto",
         "type": "bar",
         "x": {
          "bdata": "1QffB9IH1gfTB90H0AfRB9cH3AfUB9kH3gfaB9sH2Ac=",
          "dtype": "i2"
         },
         "xaxis": "x",
         "y": {
          "bdata": "jAAeAHsA/wDQAGUEXABNABMBOwTVALQAowPcAIIBEQE=",
          "dtype": "i2"
         },
         "yaxis": "y"
        },
        {
         "hovertemplate": "make=Lotus<br>year=%{x}<br>counts=%{y}<extra></extra>",
         "legendgroup": "Lotus",
         "marker": {
          "color": "#FF97FF",
          "pattern": {
           "shape": ""
          }
         },
         "name": "Lotus",
         "orientation": "v",
         "showlegend": true,
         "textfont": {
          "size": 20
         },
         "textposition": "auto",
         "type": "bar",
         "x": {
          "bdata": "1wc=",
          "dtype": "i2"
         },
         "xaxis": "x",
         "y": {
          "bdata": "AQ==",
          "dtype": "i1"
         },
         "yaxis": "y"
        },
        {
         "hovertemplate": "make=MINI<br>year=%{x}<br>counts=%{y}<extra></extra>",
         "legendgroup": "MINI",
         "marker": {
          "color": "#FECB52",
          "pattern": {
           "shape": ""
          }
         },
         "name": "MINI",
         "orientation": "v",
         "showlegend": true,
         "textfont": {
          "size": 20
         },
         "textposition": "auto",
         "type": "bar",
         "x": {
          "bdata": "3QfeB9oH1QfYB98H0wfSB9cH2QfcB9YH2wfUBw==",
          "dtype": "i2"
         },
         "xaxis": "x",
         "y": {
          "bdata": "KAE/AaEAfQC2ADAAMAAZAKEA+ABlBKAA/wBHAA==",
          "dtype": "i2"
         },
         "yaxis": "y"
        },
        {
         "hovertemplate": "make=Maserati<br>year=%{x}<br>counts=%{y}<extra></extra>",
         "legendgroup": "Maserati",
         "marker": {
          "color": "#636efa",
          "pattern": {
           "shape": ""
          }
         },
         "name": "Maserati",
         "orientation": "v",
         "showlegend": true,
         "textfont": {
          "size": 20
         },
         "textposition": "auto",
         "type": "bar",
         "x": {
          "bdata": "1wfaB94H2QfcB9QH2AfVB9IH1gfdB9sH",
          "dtype": "i2"
         },
         "xaxis": "x",
         "y": {
          "bdata": "DAMYDQ8CEgYDFgcI",
          "dtype": "i1"
         },
         "yaxis": "y"
        },
        {
         "hovertemplate": "make=Mazda<br>year=%{x}<br>counts=%{y}<extra></extra>",
         "legendgroup": "Mazda",
         "marker": {
          "color": "#EF553B",
          "pattern": {
           "shape": ""
          }
         },
         "name": "Mazda",
         "orientation": "v",
         "showlegend": true,
         "textfont": {
          "size": 20
         },
         "textposition": "auto",
         "type": "bar",
         "x": {
          "bdata": "1wfbB9kH0gfaB98H3gfUB9UH3AfTB9gH0AfRB9YH3Qc=",
          "dtype": "i2"
         },
         "xaxis": "x",
         "y": {
          "bdata": "iwAuBREBkQCHAnUBJgMZASkBKgXtAPgBRAB/ANgA1QU=",
          "dtype": "i2"
         },
         "yaxis": "y"
        },
        {
         "hovertemplate": "make=Mercedes-Benz<br>year=%{x}<br>counts=%{y}<extra></extra>",
         "legendgroup": "Mercedes-Benz",
         "marker": {
          "color": "#00cc96",
          "pattern": {
           "shape": ""
          }
         },
         "name": "Mercedes-Benz",
         "orientation": "v",
         "showlegend": true,
         "textfont": {
          "size": 20
         },
         "textposition": "auto",
         "type": "bar",
         "x": {
          "bdata": "3wfQB9sH2gfZB9cH3AfTB94H1QfUB9IH3QfRB9YH2Ac=",
          "dtype": "i2"
         },
         "xaxis": "x",
         "y": {
          "bdata": "hAClAGIGuAMtAzkEygwqAhEEUQKFAWMBLAwKAWsEKwU=",
          "dtype": "i2"
         },
         "yaxis": "y"
        },
        {
         "hovertemplate": "make=Mercury<br>year=%{x}<br>counts=%{y}<extra></extra>",
         "legendgroup": "Mercury",
         "marker": {
          "color": "#ab63fa",
          "pattern": {
           "shape": ""
          }
         },
         "name": "Mercury",
         "orientation": "v",
         "showlegend": true,
         "textfont": {
          "size": 20
         },
         "textposition": "auto",
         "type": "bar",
         "x": {
          "bdata": "2AfaB9kH2wfXB9UH0gfTB9QH0QfWB9AH",
          "dtype": "i2"
         },
         "xaxis": "x",
         "y": {
          "bdata": "MgGeAFUAIwCuANEAUgCOANAAXADmAFYA",
          "dtype": "i2"
         },
         "yaxis": "y"
        },
        {
         "hovertemplate": "make=Mitsubishi<br>year=%{x}<br>counts=%{y}<extra></extra>",
         "legendgroup": "Mitsubishi",
         "marker": {
          "color": "#FFA15A",
          "pattern": {
           "shape": ""
          }
         },
         "name": "Mitsubishi",
         "orientation": "v",
         "showlegend": true,
         "textfont": {
          "size": 20
         },
         "textposition": "auto",
         "type": "bar",
         "x": {
          "bdata": "1QfRB90H0gfYB9wH0wfQB94H1gfaB9cH3wfUB9sH2Qc=",
          "dtype": "i2"
         },
         "xaxis": "x",
         "y": {
          "bdata": "bACdAIYCiQD4AHABygBHAJsCvgC4APcAQgC3AFwBBQE=",
          "dtype": "i2"
         },
         "yaxis": "y"
        },
        {
         "hovertemplate": "make=Nissan<br>year=%{x}<br>counts=%{y}<extra></extra>",
         "legendgroup": "Nissan",
         "marker": {
          "color": "#19d3f3",
          "pattern": {
           "shape": ""
          }
         },
         "name": "Nissan",
         "orientation": "v",
         "showlegend": true,
         "textfont": {
          "size": 20
         },
         "textposition": "auto",
         "type": "bar",
         "x": {
          "bdata": "3AfVB9kH2AfSB9QH0wfaB90H0QfbB9YH1wfQB94H3wc=",
          "dtype": "i2"
         },
         "xaxis": "x",
         "y": {
          "bdata": "70HFBigFrgUvApgE1AIoBs4tHgEdF+EG8QYwARQWbwI=",
          "dtype": "i2"
         },
         "yaxis": "y"
        },
        {
         "hovertemplate": "make=Oldsmobile<br>year=%{x}<br>counts=%{y}<extra></extra>",
         "legendgroup": "Oldsmobile",
         "marker": {
          "color": "#FF6692",
          "pattern": {
           "shape": ""
          }
         },
         "name": "Oldsmobile",
         "orientation": "v",
         "showlegend": true,
         "textfont": {
          "size": 20
         },
         "textposition": "auto",
         "type": "bar",
         "x": {
          "bdata": "0QfQB9MH0gfUBw==",
          "dtype": "i2"
         },
         "xaxis": "x",
         "y": {
          "bdata": "TyQvQiE=",
          "dtype": "i1"
         },
         "yaxis": "y"
        },
        {
         "hovertemplate": "make=Plymouth<br>year=%{x}<br>counts=%{y}<extra></extra>",
         "legendgroup": "Plymouth",
         "marker": {
          "color": "#B6E880",
          "pattern": {
           "shape": ""
          }
         },
         "name": "Plymouth",
         "orientation": "v",
         "showlegend": true,
         "textfont": {
          "size": 20
         },
         "textposition": "auto",
         "type": "bar",
         "x": {
          "bdata": "0QfQBw==",
          "dtype": "i2"
         },
         "xaxis": "x",
         "y": {
          "bdata": "AgY=",
          "dtype": "i1"
         },
         "yaxis": "y"
        },
        {
         "hovertemplate": "make=Pontiac<br>year=%{x}<br>counts=%{y}<extra></extra>",
         "legendgroup": "Pontiac",
         "marker": {
          "color": "#FF97FF",
          "pattern": {
           "shape": ""
          }
         },
         "name": "Pontiac",
         "orientation": "v",
         "showlegend": true,
         "textfont": {
          "size": 20
         },
         "textposition": "auto",
         "type": "bar",
         "x": {
          "bdata": "0AfSB9YH0wfYB9oH1QfUB9EH1wfZBw==",
          "dtype": "i2"
         },
         "xaxis": "x",
         "y": {
          "bdata": "bACyAN0CxgAQA0QAkwGYAaYAIwPaAQ==",
          "dtype": "i2"
         },
         "yaxis": "y"
        },
        {
         "hovertemplate": "make=Porsche<br>year=%{x}<br>counts=%{y}<extra></extra>",
         "legendgroup": "Porsche",
         "marker": {
          "color": "#FECB52",
          "pattern": {
           "shape": ""
          }
         },
         "name": "Porsche",
         "orientation": "v",
         "showlegend": true,
         "textfont": {
          "size": 20
         },
         "textposition": "auto",
         "type": "bar",
         "x": {
          "bdata": "3AfQB9UH2wfWB9oH1AffB9kH2AfXB9MH3gfSB90H0Qc=",
          "dtype": "i2"
         },
         "xaxis": "x",
         "y": {
          "bdata": "AAEJAEUAggBvADcATgAIADcAagAqABYAZQAjAAEBGwA=",
          "dtype": "i2"
         },
         "yaxis": "y"
        },
        {
         "hovertemplate": "make=Ram<br>year=%{x}<br>counts=%{y}<extra></extra>",
         "legendgroup": "Ram",
         "marker": {
          "color": "#636efa",
          "pattern": {
           "shape": ""
          }
         },
         "name": "Ram",
         "orientation": "v",
         "showlegend": true,
         "textfont": {
          "size": 20
         },
         "textposition": "auto",
         "type": "bar",
         "x": {
          "bdata": "3QfcB9sH3wfeBw==",
          "dtype": "i2"
         },
         "xaxis": "x",
         "y": {
          "bdata": "IwSUBN4CLwAaBg==",
          "dtype": "i2"
         },
         "yaxis": "y"
        },
        {
         "hovertemplate": "make=Rolls-Royce<br>year=%{x}<br>counts=%{y}<extra></extra>",
         "legendgroup": "Rolls-Royce",
         "marker": {
          "color": "#EF553B",
          "pattern": {
           "shape": ""
          }
         },
         "name": "Rolls-Royce",
         "orientation": "v",
         "showlegend": true,
         "textfont": {
          "size": 20
         },
         "textposition": "auto",
         "type": "bar",
         "x": {
          "bdata": "2gfbB9wH3Qc=",
          "dtype": "i2"
         },
         "xaxis": "x",
         "y": {
          "bdata": "BAkDAQ==",
          "dtype": "i1"
         },
         "yaxis": "y"
        },
        {
         "hovertemplate": "make=Saab<br>year=%{x}<br>counts=%{y}<extra></extra>",
         "legendgroup": "Saab",
         "marker": {
          "color": "#00cc96",
          "pattern": {
           "shape": ""
          }
         },
         "name": "Saab",
         "orientation": "v",
         "showlegend": true,
         "textfont": {
          "size": 20
         },
         "textposition": "auto",
         "type": "bar",
         "x": {
          "bdata": "1AfZB9YH1wfbB9MH1QfaB9gH0gc=",
          "dtype": "i2"
         },
         "xaxis": "x",
         "y": {
          "bdata": "NAxfQw1GRAowGw==",
          "dtype": "i1"
         },
         "yaxis": "y"
        },
        {
         "hovertemplate": "make=Saturn<br>year=%{x}<br>counts=%{y}<extra></extra>",
         "legendgroup": "Saturn",
         "marker": {
          "color": "#ab63fa",
          "pattern": {
           "shape": ""
          }
         },
         "name": "Saturn",
         "orientation": "v",
         "showlegend": true,
         "textfont": {
          "size": 20
         },
         "textposition": "auto",
         "type": "bar",
         "x": {
          "bdata": "1gfYB9AH1QfZB9EH0gfXB9MH1Ac=",
          "dtype": "i2"
         },
         "xaxis": "x",
         "y": {
          "bdata": "AQFkAkMAxQDaAF4AuQAoAgcB6AA=",
          "dtype": "i2"
         },
         "yaxis": "y"
        },
        {
         "hovertemplate": "make=Scion<br>year=%{x}<br>counts=%{y}<extra></extra>",
         "legendgroup": "Scion",
         "marker": {
          "color": "#FFA15A",
          "pattern": {
           "shape": ""
          }
         },
         "name": "Scion",
         "orientation": "v",
         "showlegend": true,
         "textfont": {
          "size": 20
         },
         "textposition": "auto",
         "type": "bar",
         "x": {
          "bdata": "1gfXB9AH2gfdB9UH2AfUB98H2QfeB9sH3Ac=",
          "dtype": "i2"
         },
         "xaxis": "x",
         "y": {
          "bdata": "UgChAAEAZQAVAUgAFQEXAAkAAQCTAGwArAE=",
          "dtype": "i2"
         },
         "yaxis": "y"
        },
        {
         "hovertemplate": "make=Subaru<br>year=%{x}<br>counts=%{y}<extra></extra>",
         "legendgroup": "Subaru",
         "marker": {
          "color": "#19d3f3",
          "pattern": {
           "shape": ""
          }
         },
         "name": "Subaru",
         "orientation": "v",
         "showlegend": true,
         "textfont": {
          "size": 20
         },
         "textposition": "auto",
         "type": "bar",
         "x": {
          "bdata": "3AfYB94H1QfRB9IH2gfTB9cH1AfWB9AH3wfbB9kH3Qc=",
          "dtype": "i2"
         },
         "xaxis": "x",
         "y": {
          "bdata": "TgLkAAUGrQBFAGAAyABDAHoAUgDYACQA7AA3ArgAOAI=",
          "dtype": "i2"
         },
         "yaxis": "y"
        },
        {
         "hovertemplate": "make=Suzuki<br>year=%{x}<br>counts=%{y}<extra></extra>",
         "legendgroup": "Suzuki",
         "marker": {
          "color": "#FF6692",
          "pattern": {
           "shape": ""
          }
         },
         "name": "Suzuki",
         "orientation": "v",
         "showlegend": true,
         "textfont": {
          "size": 20
         },
         "textposition": "auto",
         "type": "bar",
         "x": {
          "bdata": "2QfcB9AH1QfYB9EH0gfXB9YH1AfbB9MH2gfdBw==",
          "dtype": "i2"
         },
         "xaxis": "x",
         "y": {
          "bdata": "MwBlAAYARQDbAAsAGADCAHcAQABCABQARgA0AA==",
          "dtype": "i2"
         },
         "yaxis": "y"
        },
        {
         "hovertemplate": "make=Tesla<br>year=%{x}<br>counts=%{y}<extra></extra>",
         "legendgroup": "Tesla",
         "marker": {
          "color": "#B6E880",
          "pattern": {
           "shape": ""
          }
         },
         "name": "Tesla",
         "orientation": "v",
         "showlegend": true,
         "textfont": {
          "size": 20
         },
         "textposition": "auto",
         "type": "bar",
         "x": {
          "bdata": "3gfdBw==",
          "dtype": "i2"
         },
         "xaxis": "x",
         "y": {
          "bdata": "BRI=",
          "dtype": "i1"
         },
         "yaxis": "y"
        },
        {
         "hovertemplate": "make=Toyota<br>year=%{x}<br>counts=%{y}<extra></extra>",
         "legendgroup": "Toyota",
         "marker": {
          "color": "#FF97FF",
          "pattern": {
           "shape": ""
          }
         },
         "name": "Toyota",
         "orientation": "v",
         "showlegend": true,
         "textfont": {
          "size": 20
         },
         "textposition": "auto",
         "type": "bar",
         "x": {
          "bdata": "2gfQB94H2wfTB98H0QfSB90H3AfUB9kH1gfYB9cH1Qc=",
          "dtype": "i2"
         },
         "xaxis": "x",
         "y": {
          "bdata": "WQipAbUWJBDaA+0A0AH4AjIaPhzIBFEH9QWrBjUIQAU=",
          "dtype": "i2"
         },
         "yaxis": "y"
        },
        {
         "hovertemplate": "make=Volkswagen<br>year=%{x}<br>counts=%{y}<extra></extra>",
         "legendgroup": "Volkswagen",
         "marker": {
          "color": "#FECB52",
          "pattern": {
           "shape": ""
          }
         },
         "name": "Volkswagen",
         "orientation": "v",
         "showlegend": true,
         "textfont": {
          "size": 20
         },
         "textposition": "auto",
         "type": "bar",
         "x": {
          "bdata": "1wfRB9kH0wfUB9AH3QfcB9oH0gffB9sH1QfeB9YH2Ac=",
          "dtype": "i2"
         },
         "xaxis": "x",
         "y": {
          "bdata": "dgLyALYCmgGgAY8ALQnZC20CNQFZAHgCdgH2BOQC5QE=",
          "dtype": "i2"
         },
         "yaxis": "y"
        },
        {
         "hovertemplate": "make=Volvo<br>year=%{x}<br>counts=%{y}<extra></extra>",
         "legendgroup": "Volvo",
         "marker": {
          "color": "#636efa",
          "pattern": {
           "shape": ""
          }
         },
         "name": "Volvo",
         "orientation": "v",
         "showlegend": true,
         "textfont": {
          "size": 20
         },
         "textposition": "auto",
         "type": "bar",
         "x": {
          "bdata": "0AfZB9MH3gfUB98H3QfWB9sH1QfcB9EH0gfYB9cH2gc=",
          "dtype": "i2"
         },
         "xaxis": "x",
         "y": {
          "bdata": "WgBlAHQA3ABjAY0BKwHhAKgAMAGwAaEAjwDPAAgBrgA=",
          "dtype": "i2"
         },
         "yaxis": "y"
        },
        {
         "hovertemplate": "make=acura<br>year=%{x}<br>counts=%{y}<extra></extra>",
         "legendgroup": "acura",
         "marker": {
          "color": "#EF553B",
          "pattern": {
           "shape": ""
          }
         },
         "name": "acura",
         "orientation": "v",
         "showlegend": true,
         "textfont": {
          "size": 20
         },
         "textposition": "auto",
         "type": "bar",
         "x": {
          "bdata": "1gfVB9QH",
          "dtype": "i2"
         },
         "xaxis": "x",
         "y": {
          "bdata": "BBMC",
          "dtype": "i1"
         },
         "yaxis": "y"
        },
        {
         "hovertemplate": "make=airstream<br>year=%{x}<br>counts=%{y}<extra></extra>",
         "legendgroup": "airstream",
         "marker": {
          "color": "#00cc96",
          "pattern": {
           "shape": ""
          }
         },
         "name": "airstream",
         "orientation": "v",
         "showlegend": true,
         "textfont": {
          "size": 20
         },
         "textposition": "auto",
         "type": "bar",
         "x": {
          "bdata": "3Ac=",
          "dtype": "i2"
         },
         "xaxis": "x",
         "y": {
          "bdata": "AQ==",
          "dtype": "i1"
         },
         "yaxis": "y"
        },
        {
         "hovertemplate": "make=audi<br>year=%{x}<br>counts=%{y}<extra></extra>",
         "legendgroup": "audi",
         "marker": {
          "color": "#ab63fa",
          "pattern": {
           "shape": ""
          }
         },
         "name": "audi",
         "orientation": "v",
         "showlegend": true,
         "textfont": {
          "size": 20
         },
         "textposition": "auto",
         "type": "bar",
         "x": {
          "bdata": "3AfbB9UH2gc=",
          "dtype": "i2"
         },
         "xaxis": "x",
         "y": {
          "bdata": "AgECAw==",
          "dtype": "i1"
         },
         "yaxis": "y"
        },
        {
         "hovertemplate": "make=bmw<br>year=%{x}<br>counts=%{y}<extra></extra>",
         "legendgroup": "bmw",
         "marker": {
          "color": "#FFA15A",
          "pattern": {
           "shape": ""
          }
         },
         "name": "bmw",
         "orientation": "v",
         "showlegend": true,
         "textfont": {
          "size": 20
         },
         "textposition": "auto",
         "type": "bar",
         "x": {
          "bdata": "0wfWB9cH2AfZB9wH2wc=",
          "dtype": "i2"
         },
         "xaxis": "x",
         "y": {
          "bdata": "AQEHDwElDA==",
          "dtype": "i1"
         },
         "yaxis": "y"
        },
        {
         "hovertemplate": "make=buick<br>year=%{x}<br>counts=%{y}<extra></extra>",
         "legendgroup": "buick",
         "marker": {
          "color": "#19d3f3",
          "pattern": {
           "shape": ""
          }
         },
         "name": "buick",
         "orientation": "v",
         "showlegend": true,
         "textfont": {
          "size": 20
         },
         "textposition": "auto",
         "type": "bar",
         "x": {
          "bdata": "3gfUB9YH2gfVBw==",
          "dtype": "i2"
         },
         "xaxis": "x",
         "y": {
          "bdata": "AwMCAQE=",
          "dtype": "i1"
         },
         "yaxis": "y"
        },
        {
         "hovertemplate": "make=cadillac<br>year=%{x}<br>counts=%{y}<extra></extra>",
         "legendgroup": "cadillac",
         "marker": {
          "color": "#FF6692",
          "pattern": {
           "shape": ""
          }
         },
         "name": "cadillac",
         "orientation": "v",
         "showlegend": true,
         "textfont": {
          "size": 20
         },
         "textposition": "auto",
         "type": "bar",
         "x": {
          "bdata": "1AfYB9YH1wfaB9UH",
          "dtype": "i2"
         },
         "xaxis": "x",
         "y": {
          "bdata": "GA8IBgM2",
          "dtype": "i1"
         },
         "yaxis": "y"
        },
        {
         "hovertemplate": "make=chev truck<br>year=%{x}<br>counts=%{y}<extra></extra>",
         "legendgroup": "chev truck",
         "marker": {
          "color": "#B6E880",
          "pattern": {
           "shape": ""
          }
         },
         "name": "chev truck",
         "orientation": "v",
         "showlegend": true,
         "textfont": {
          "size": 20
         },
         "textposition": "auto",
         "type": "bar",
         "x": {
          "bdata": "0Ac=",
          "dtype": "i2"
         },
         "xaxis": "x",
         "y": {
          "bdata": "AQ==",
          "dtype": "i1"
         },
         "yaxis": "y"
        },
        {
         "hovertemplate": "make=chevrolet<br>year=%{x}<br>counts=%{y}<extra></extra>",
         "legendgroup": "chevrolet",
         "marker": {
          "color": "#FF97FF",
          "pattern": {
           "shape": ""
          }
         },
         "name": "chevrolet",
         "orientation": "v",
         "showlegend": true,
         "textfont": {
          "size": 20
         },
         "textposition": "auto",
         "type": "bar",
         "x": {
          "bdata": "0wfYB9YH1wfQB9sH3AfaB98H1AfZB9UH",
          "dtype": "i2"
         },
         "xaxis": "x",
         "y": {
          "bdata": "DR5YRiMDAhwDDBEM",
          "dtype": "i1"
         },
         "yaxis": "y"
        },
        {
         "hovertemplate": "make=chrysler<br>year=%{x}<br>counts=%{y}<extra></extra>",
         "legendgroup": "chrysler",
         "marker": {
          "color": "#FECB52",
          "pattern": {
           "shape": ""
          }
         },
         "name": "chrysler",
         "orientation": "v",
         "showlegend": true,
         "textfont": {
          "size": 20
         },
         "textposition": "auto",
         "type": "bar",
         "x": {
          "bdata": "0AfSB9oH1gfUB9MH2wfVBw==",
          "dtype": "i2"
         },
         "xaxis": "x",
         "y": {
          "bdata": "CgoQOCgGAT4=",
          "dtype": "i1"
         },
         "yaxis": "y"
        },
        {
         "hovertemplate": "make=dodge<br>year=%{x}<br>counts=%{y}<extra></extra>",
         "legendgroup": "dodge",
         "marker": {
          "color": "#636efa",
          "pattern": {
           "shape": ""
          }
         },
         "name": "dodge",
         "orientation": "v",
         "showlegend": true,
         "textfont": {
          "size": 20
         },
         "textposition": "auto",
         "type": "bar",
         "x": {
          "bdata": "1AfeB9IH1QfRB9kH2gfWB90H0AfcB9MH2AfXBw==",
          "dtype": "i2"
         },
         "xaxis": "x",
         "y": {
          "bdata": "ECgNFwMDBQ8BEgUSHAk=",
          "dtype": "i1"
         },
         "yaxis": "y"
        },
        {
         "hovertemplate": "make=ford<br>year=%{x}<br>counts=%{y}<extra></extra>",
         "legendgroup": "ford",
         "marker": {
          "color": "#EF553B",
          "pattern": {
           "shape": ""
          }
         },
         "name": "ford",
         "orientation": "v",
         "showlegend": true,
         "textfont": {
          "size": 20
         },
         "textposition": "auto",
         "type": "bar",
         "x": {
          "bdata": "2AfXB9oH3AfSB9AH1gfUB9MH1QfbB9kH",
          "dtype": "i2"
         },
         "xaxis": "x",
         "y": {
          "bdata": "BR80DAxCERkbNCkD",
          "dtype": "i1"
         },
         "yaxis": "y"
        },
        {
         "hovertemplate": "make=ford tk<br>year=%{x}<br>counts=%{y}<extra></extra>",
         "legendgroup": "ford tk",
         "marker": {
          "color": "#00cc96",
          "pattern": {
           "shape": ""
          }
         },
         "name": "ford tk",
         "orientation": "v",
         "showlegend": true,
         "textfont": {
          "size": 20
         },
         "textposition": "auto",
         "type": "bar",
         "x": {
          "bdata": "0Ac=",
          "dtype": "i2"
         },
         "xaxis": "x",
         "y": {
          "bdata": "AQ==",
          "dtype": "i1"
         },
         "yaxis": "y"
        },
        {
         "hovertemplate": "make=gmc<br>year=%{x}<br>counts=%{y}<extra></extra>",
         "legendgroup": "gmc",
         "marker": {
          "color": "#ab63fa",
          "pattern": {
           "shape": ""
          }
         },
         "name": "gmc",
         "orientation": "v",
         "showlegend": true,
         "textfont": {
          "size": 20
         },
         "textposition": "auto",
         "type": "bar",
         "x": {
          "bdata": "1wfZB9AH1QfSB9YH0wc=",
          "dtype": "i2"
         },
         "xaxis": "x",
         "y": {
          "bdata": "AgEDAQEGAg==",
          "dtype": "i1"
         },
         "yaxis": "y"
        },
        {
         "hovertemplate": "make=gmc truck<br>year=%{x}<br>counts=%{y}<extra></extra>",
         "legendgroup": "gmc truck",
         "marker": {
          "color": "#FFA15A",
          "pattern": {
           "shape": ""
          }
         },
         "name": "gmc truck",
         "orientation": "v",
         "showlegend": true,
         "textfont": {
          "size": 20
         },
         "textposition": "auto",
         "type": "bar",
         "x": {
          "bdata": "1gfSB9cH0Ac=",
          "dtype": "i2"
         },
         "xaxis": "x",
         "y": {
          "bdata": "AwEBBQ==",
          "dtype": "i1"
         },
         "yaxis": "y"
        },
        {
         "hovertemplate": "make=honda<br>year=%{x}<br>counts=%{y}<extra></extra>",
         "legendgroup": "honda",
         "marker": {
          "color": "#19d3f3",
          "pattern": {
           "shape": ""
          }
         },
         "name": "honda",
         "orientation": "v",
         "showlegend": true,
         "textfont": {
          "size": 20
         },
         "textposition": "auto",
         "type": "bar",
         "x": {
          "bdata": "0wfQB9UH0gfXB9YH1Ac=",
          "dtype": "i2"
         },
         "xaxis": "x",
         "y": {
          "bdata": "AR0dAgElIg==",
          "dtype": "i1"
         },
         "yaxis": "y"
        },
        {
         "hovertemplate": "make=hyundai<br>year=%{x}<br>counts=%{y}<extra></extra>",
         "legendgroup": "hyundai",
         "marker": {
          "color": "#FF6692",
          "pattern": {
           "shape": ""
          }
         },
         "name": "hyundai",
         "orientation": "v",
         "showlegend": true,
         "textfont": {
          "size": 20
         },
         "textposition": "auto",
         "type": "bar",
         "x": {
          "bdata": "2gfRB9gH1QfZB9YH1Ac=",
          "dtype": "i2"
         },
         "xaxis": "x",
         "y": {
          "bdata": "AwsBAQEBAg==",
          "dtype": "i1"
         },
         "yaxis": "y"
        },
        {
         "hovertemplate": "make=hyundai tk<br>year=%{x}<br>counts=%{y}<extra></extra>",
         "legendgroup": "hyundai tk",
         "marker": {
          "color": "#B6E880",
          "pattern": {
           "shape": ""
          }
         },
         "name": "hyundai tk",
         "orientation": "v",
         "showlegend": true,
         "textfont": {
          "size": 20
         },
         "textposition": "auto",
         "type": "bar",
         "x": {
          "bdata": "1Ac=",
          "dtype": "i2"
         },
         "xaxis": "x",
         "y": {
          "bdata": "AQ==",
          "dtype": "i1"
         },
         "yaxis": "y"
        },
        {
         "hovertemplate": "make=jeep<br>year=%{x}<br>counts=%{y}<extra></extra>",
         "legendgroup": "jeep",
         "marker": {
          "color": "#FF97FF",
          "pattern": {
           "shape": ""
          }
         },
         "name": "jeep",
         "orientation": "v",
         "showlegend": true,
         "textfont": {
          "size": 20
         },
         "textposition": "auto",
         "type": "bar",
         "x": {
          "bdata": "2AfeB9QH0AfWBw==",
          "dtype": "i2"
         },
         "xaxis": "x",
         "y": {
          "bdata": "ARsBEho=",
          "dtype": "i1"
         },
         "yaxis": "y"
        },
        {
         "hovertemplate": "make=kia<br>year=%{x}<br>counts=%{y}<extra></extra>",
         "legendgroup": "kia",
         "marker": {
          "color": "#FECB52",
          "pattern": {
           "shape": ""
          }
         },
         "name": "kia",
         "orientation": "v",
         "showlegend": true,
         "textfont": {
          "size": 20
         },
         "textposition": "auto",
         "type": "bar",
         "x": {
          "bdata": "2QfbB9UH2gc=",
          "dtype": "i2"
         },
         "xaxis": "x",
         "y": {
          "bdata": "AwIBAQ==",
          "dtype": "i1"
         },
         "yaxis": "y"
        },
        {
         "hovertemplate": "make=land rover<br>year=%{x}<br>counts=%{y}<extra></extra>",
         "legendgroup": "land rover",
         "marker": {
          "color": "#636efa",
          "pattern": {
           "shape": ""
          }
         },
         "name": "land rover",
         "orientation": "v",
         "showlegend": true,
         "textfont": {
          "size": 20
         },
         "textposition": "auto",
         "type": "bar",
         "x": {
          "bdata": "3AfTB9YH0gfUB94H1wfVBw==",
          "dtype": "i2"
         },
         "xaxis": "x",
         "y": {
          "bdata": "Ag1CAwgBFw0=",
          "dtype": "i1"
         },
         "yaxis": "y"
        },
        {
         "hovertemplate": "make=landrover<br>year=%{x}<br>counts=%{y}<extra></extra>",
         "legendgroup": "landrover",
         "marker": {
          "color": "#EF553B",
          "pattern": {
           "shape": ""
          }
         },
         "name": "landrover",
         "orientation": "v",
         "showlegend": true,
         "textfont": {
          "size": 20
         },
         "textposition": "auto",
         "type": "bar",
         "x": {
          "bdata": "1gfXB9MH1QfUBw==",
          "dtype": "i2"
         },
         "xaxis": "x",
         "y": {
          "bdata": "DwYBBAE=",
          "dtype": "i1"
         },
         "yaxis": "y"
        },
        {
         "hovertemplate": "make=lexus<br>year=%{x}<br>counts=%{y}<extra></extra>",
         "legendgroup": "lexus",
         "marker": {
          "color": "#00cc96",
          "pattern": {
           "shape": ""
          }
         },
         "name": "lexus",
         "orientation": "v",
         "showlegend": true,
         "textfont": {
          "size": 20
         },
         "textposition": "auto",
         "type": "bar",
         "x": {
          "bdata": "1wfTB9UH1AfWBw==",
          "dtype": "i2"
         },
         "xaxis": "x",
         "y": {
          "bdata": "FBUXIxQ=",
          "dtype": "i1"
         },
         "yaxis": "y"
        },
        {
         "hovertemplate": "make=lincoln<br>year=%{x}<br>counts=%{y}<extra></extra>",
         "legendgroup": "lincoln",
         "marker": {
          "color": "#ab63fa",
          "pattern": {
           "shape": ""
          }
         },
         "name": "lincoln",
         "orientation": "v",
         "showlegend": true,
         "textfont": {
          "size": 20
         },
         "textposition": "auto",
         "type": "bar",
         "x": {
          "bdata": "3QfXB94H1gc=",
          "dtype": "i2"
         },
         "xaxis": "x",
         "y": {
          "bdata": "AQURBg==",
          "dtype": "i1"
         },
         "yaxis": "y"
        },
        {
         "hovertemplate": "make=maserati<br>year=%{x}<br>counts=%{y}<extra></extra>",
         "legendgroup": "maserati",
         "marker": {
          "color": "#FFA15A",
          "pattern": {
           "shape": ""
          }
         },
         "name": "maserati",
         "orientation": "v",
         "showlegend": true,
         "textfont": {
          "size": 20
         },
         "textposition": "auto",
         "type": "bar",
         "x": {
          "bdata": "1wc=",
          "dtype": "i2"
         },
         "xaxis": "x",
         "y": {
          "bdata": "Aw==",
          "dtype": "i1"
         },
         "yaxis": "y"
        },
        {
         "hovertemplate": "make=mazda<br>year=%{x}<br>counts=%{y}<extra></extra>",
         "legendgroup": "mazda",
         "marker": {
          "color": "#19d3f3",
          "pattern": {
           "shape": ""
          }
         },
         "name": "mazda",
         "orientation": "v",
         "showlegend": true,
         "textfont": {
          "size": 20
         },
         "textposition": "auto",
         "type": "bar",
         "x": {
          "bdata": "1gfYB9kH1AfXB9UH0Ac=",
          "dtype": "i2"
         },
         "xaxis": "x",
         "y": {
          "bdata": "FwECEkcYBQ==",
          "dtype": "i1"
         },
         "yaxis": "y"
        },
        {
         "hovertemplate": "make=mazda tk<br>year=%{x}<br>counts=%{y}<extra></extra>",
         "legendgroup": "mazda tk",
         "marker": {
          "color": "#FF6692",
          "pattern": {
           "shape": ""
          }
         },
         "name": "mazda tk",
         "orientation": "v",
         "showlegend": true,
         "textfont": {
          "size": 20
         },
         "textposition": "auto",
         "type": "bar",
         "x": {
          "bdata": "1wc=",
          "dtype": "i2"
         },
         "xaxis": "x",
         "y": {
          "bdata": "AQ==",
          "dtype": "i1"
         },
         "yaxis": "y"
        },
        {
         "hovertemplate": "make=mercedes<br>year=%{x}<br>counts=%{y}<extra></extra>",
         "legendgroup": "mercedes",
         "marker": {
          "color": "#B6E880",
          "pattern": {
           "shape": ""
          }
         },
         "name": "mercedes",
         "orientation": "v",
         "showlegend": true,
         "textfont": {
          "size": 20
         },
         "textposition": "auto",
         "type": "bar",
         "x": {
          "bdata": "1gfUB9cH0wfVB9wH",
          "dtype": "i2"
         },
         "xaxis": "x",
         "y": {
          "bdata": "AQYuCAIB",
          "dtype": "i1"
         },
         "yaxis": "y"
        },
        {
         "hovertemplate": "make=mercedes-b<br>year=%{x}<br>counts=%{y}<extra></extra>",
         "legendgroup": "mercedes-b",
         "marker": {
          "color": "#FF97FF",
          "pattern": {
           "shape": ""
          }
         },
         "name": "mercedes-b",
         "orientation": "v",
         "showlegend": true,
         "textfont": {
          "size": 20
         },
         "textposition": "auto",
         "type": "bar",
         "x": {
          "bdata": "0wfXBw==",
          "dtype": "i2"
         },
         "xaxis": "x",
         "y": {
          "bdata": "AQE=",
          "dtype": "i1"
         },
         "yaxis": "y"
        },
        {
         "hovertemplate": "make=mercury<br>year=%{x}<br>counts=%{y}<extra></extra>",
         "legendgroup": "mercury",
         "marker": {
          "color": "#FECB52",
          "pattern": {
           "shape": ""
          }
         },
         "name": "mercury",
         "orientation": "v",
         "showlegend": true,
         "textfont": {
          "size": 20
         },
         "textposition": "auto",
         "type": "bar",
         "x": {
          "bdata": "1wfWB9AH",
          "dtype": "i2"
         },
         "xaxis": "x",
         "y": {
          "bdata": "BQcC",
          "dtype": "i1"
         },
         "yaxis": "y"
        },
        {
         "hovertemplate": "make=mitsubishi<br>year=%{x}<br>counts=%{y}<extra></extra>",
         "legendgroup": "mitsubishi",
         "marker": {
          "color": "#636efa",
          "pattern": {
           "shape": ""
          }
         },
         "name": "mitsubishi",
         "orientation": "v",
         "showlegend": true,
         "textfont": {
          "size": 20
         },
         "textposition": "auto",
         "type": "bar",
         "x": {
          "bdata": "1wfSB9sH1AfaB9wH",
          "dtype": "i2"
         },
         "xaxis": "x",
         "y": {
          "bdata": "AgIdAQVO",
          "dtype": "i1"
         },
         "yaxis": "y"
        },
        {
         "hovertemplate": "make=nissan<br>year=%{x}<br>counts=%{y}<extra></extra>",
         "legendgroup": "nissan",
         "marker": {
          "color": "#EF553B",
          "pattern": {
           "shape": ""
          }
         },
         "name": "nissan",
         "orientation": "v",
         "showlegend": true,
         "textfont": {
          "size": 20
         },
         "textposition": "auto",
         "type": "bar",
         "x": {
          "bdata": "0wfXB9AH1gfdB9QH1Qc=",
          "dtype": "i2"
         },
         "xaxis": "x",
         "y": {
          "bdata": "DwkDDAELBw==",
          "dtype": "i1"
         },
         "yaxis": "y"
        },
        {
         "hovertemplate": "make=oldsmobile<br>year=%{x}<br>counts=%{y}<extra></extra>",
         "legendgroup": "oldsmobile",
         "marker": {
          "color": "#00cc96",
          "pattern": {
           "shape": ""
          }
         },
         "name": "oldsmobile",
         "orientation": "v",
         "showlegend": true,
         "textfont": {
          "size": 20
         },
         "textposition": "auto",
         "type": "bar",
         "x": {
          "bdata": "0QfQBw==",
          "dtype": "i2"
         },
         "xaxis": "x",
         "y": {
          "bdata": "BgY=",
          "dtype": "i1"
         },
         "yaxis": "y"
        },
        {
         "hovertemplate": "make=plymouth<br>year=%{x}<br>counts=%{y}<extra></extra>",
         "legendgroup": "plymouth",
         "marker": {
          "color": "#ab63fa",
          "pattern": {
           "shape": ""
          }
         },
         "name": "plymouth",
         "orientation": "v",
         "showlegend": true,
         "textfont": {
          "size": 20
         },
         "textposition": "auto",
         "type": "bar",
         "x": {
          "bdata": "0Ac=",
          "dtype": "i2"
         },
         "xaxis": "x",
         "y": {
          "bdata": "Ag==",
          "dtype": "i1"
         },
         "yaxis": "y"
        },
        {
         "hovertemplate": "make=pontiac<br>year=%{x}<br>counts=%{y}<extra></extra>",
         "legendgroup": "pontiac",
         "marker": {
          "color": "#FFA15A",
          "pattern": {
           "shape": ""
          }
         },
         "name": "pontiac",
         "orientation": "v",
         "showlegend": true,
         "textfont": {
          "size": 20
         },
         "textposition": "auto",
         "type": "bar",
         "x": {
          "bdata": "1wfWB9gH0AfZB9oH1Qc=",
          "dtype": "i2"
         },
         "xaxis": "x",
         "y": {
          "bdata": "BAEDAgUEAg==",
          "dtype": "i1"
         },
         "yaxis": "y"
        },
        {
         "hovertemplate": "make=porsche<br>year=%{x}<br>counts=%{y}<extra></extra>",
         "legendgroup": "porsche",
         "marker": {
          "color": "#19d3f3",
          "pattern": {
           "shape": ""
          }
         },
         "name": "porsche",
         "orientation": "v",
         "showlegend": true,
         "textfont": {
          "size": 20
         },
         "textposition": "auto",
         "type": "bar",
         "x": {
          "bdata": "2QfYB9YH1AfTBw==",
          "dtype": "i2"
         },
         "xaxis": "x",
         "y": {
          "bdata": "AgIHAwI=",
          "dtype": "i1"
         },
         "yaxis": "y"
        },
        {
         "hovertemplate": "make=smart<br>year=%{x}<br>counts=%{y}<extra></extra>",
         "legendgroup": "smart",
         "marker": {
          "color": "#FF6692",
          "pattern": {
           "shape": ""
          }
         },
         "name": "smart",
         "orientation": "v",
         "showlegend": true,
         "textfont": {
          "size": 20
         },
         "textposition": "auto",
         "type": "bar",
         "x": {
          "bdata": "3gffB9gH2QfaB9sH1QfcB90H",
          "dtype": "i2"
         },
         "xaxis": "x",
         "y": {
          "bdata": "FAADACsAKgAIAA4AAQCbAG4A",
          "dtype": "i2"
         },
         "yaxis": "y"
        },
        {
         "hovertemplate": "make=subaru<br>year=%{x}<br>counts=%{y}<extra></extra>",
         "legendgroup": "subaru",
         "marker": {
          "color": "#B6E880",
          "pattern": {
           "shape": ""
          }
         },
         "name": "subaru",
         "orientation": "v",
         "showlegend": true,
         "textfont": {
          "size": 20
         },
         "textposition": "auto",
         "type": "bar",
         "x": {
          "bdata": "0wfVB9cH1AfWB9AH",
          "dtype": "i2"
         },
         "xaxis": "x",
         "y": {
          "bdata": "EggJCQgD",
          "dtype": "i1"
         },
         "yaxis": "y"
        },
        {
         "hovertemplate": "make=suzuki<br>year=%{x}<br>counts=%{y}<extra></extra>",
         "legendgroup": "suzuki",
         "marker": {
          "color": "#FF97FF",
          "pattern": {
           "shape": ""
          }
         },
         "name": "suzuki",
         "orientation": "v",
         "showlegend": true,
         "textfont": {
          "size": 20
         },
         "textposition": "auto",
         "type": "bar",
         "x": {
          "bdata": "3AfXB9gH",
          "dtype": "i2"
         },
         "xaxis": "x",
         "y": {
          "bdata": "AgEC",
          "dtype": "i1"
         },
         "yaxis": "y"
        },
        {
         "hovertemplate": "make=toyota<br>year=%{x}<br>counts=%{y}<extra></extra>",
         "legendgroup": "toyota",
         "marker": {
          "color": "#FECB52",
          "pattern": {
           "shape": ""
          }
         },
         "name": "toyota",
         "orientation": "v",
         "showlegend": true,
         "textfont": {
          "size": 20
         },
         "textposition": "auto",
         "type": "bar",
         "x": {
          "bdata": "0gfTB9AH1wfbBw==",
          "dtype": "i2"
         },
         "xaxis": "x",
         "y": {
          "bdata": "AQEVLgg=",
          "dtype": "i1"
         },
         "yaxis": "y"
        },
        {
         "hovertemplate": "make=volkswagen<br>year=%{x}<br>counts=%{y}<extra></extra>",
         "legendgroup": "volkswagen",
         "marker": {
          "color": "#636efa",
          "pattern": {
           "shape": ""
          }
         },
         "name": "volkswagen",
         "orientation": "v",
         "showlegend": true,
         "textfont": {
          "size": 20
         },
         "textposition": "auto",
         "type": "bar",
         "x": {
          "bdata": "3QfZB9oH0wfeB9UH1wfWB9sH",
          "dtype": "i2"
         },
         "xaxis": "x",
         "y": {
          "bdata": "AQEBAgMNAQEB",
          "dtype": "i1"
         },
         "yaxis": "y"
        },
        {
         "hovertemplate": "make=vw<br>year=%{x}<br>counts=%{y}<extra></extra>",
         "legendgroup": "vw",
         "marker": {
          "color": "#EF553B",
          "pattern": {
           "shape": ""
          }
         },
         "name": "vw",
         "orientation": "v",
         "showlegend": true,
         "textfont": {
          "size": 20
         },
         "textposition": "auto",
         "type": "bar",
         "x": {
          "bdata": "3QfQB9MH3gfSB9sH",
          "dtype": "i2"
         },
         "xaxis": "x",
         "y": {
          "bdata": "BAIBCQEG",
          "dtype": "i1"
         },
         "yaxis": "y"
        }
       ],
       "layout": {
        "barmode": "group",
        "legend": {
         "title": {
          "text": "make"
         },
         "tracegroupgap": 0
        },
        "margin": {
         "t": 60
        },
        "template": {
         "data": {
          "bar": [
           {
            "error_x": {
             "color": "#2a3f5f"
            },
            "error_y": {
             "color": "#2a3f5f"
            },
            "marker": {
             "line": {
              "color": "#E5ECF6",
              "width": 0.5
             },
             "pattern": {
              "fillmode": "overlay",
              "size": 10,
              "solidity": 0.2
             }
            },
            "type": "bar"
           }
          ],
          "barpolar": [
           {
            "marker": {
             "line": {
              "color": "#E5ECF6",
              "width": 0.5
             },
             "pattern": {
              "fillmode": "overlay",
              "size": 10,
              "solidity": 0.2
             }
            },
            "type": "barpolar"
           }
          ],
          "carpet": [
           {
            "aaxis": {
             "endlinecolor": "#2a3f5f",
             "gridcolor": "white",
             "linecolor": "white",
             "minorgridcolor": "white",
             "startlinecolor": "#2a3f5f"
            },
            "baxis": {
             "endlinecolor": "#2a3f5f",
             "gridcolor": "white",
             "linecolor": "white",
             "minorgridcolor": "white",
             "startlinecolor": "#2a3f5f"
            },
            "type": "carpet"
           }
          ],
          "choropleth": [
           {
            "colorbar": {
             "outlinewidth": 0,
             "ticks": ""
            },
            "type": "choropleth"
           }
          ],
          "contour": [
           {
            "colorbar": {
             "outlinewidth": 0,
             "ticks": ""
            },
            "colorscale": [
             [
              0,
              "#0d0887"
             ],
             [
              0.1111111111111111,
              "#46039f"
             ],
             [
              0.2222222222222222,
              "#7201a8"
             ],
             [
              0.3333333333333333,
              "#9c179e"
             ],
             [
              0.4444444444444444,
              "#bd3786"
             ],
             [
              0.5555555555555556,
              "#d8576b"
             ],
             [
              0.6666666666666666,
              "#ed7953"
             ],
             [
              0.7777777777777778,
              "#fb9f3a"
             ],
             [
              0.8888888888888888,
              "#fdca26"
             ],
             [
              1,
              "#f0f921"
             ]
            ],
            "type": "contour"
           }
          ],
          "contourcarpet": [
           {
            "colorbar": {
             "outlinewidth": 0,
             "ticks": ""
            },
            "type": "contourcarpet"
           }
          ],
          "heatmap": [
           {
            "colorbar": {
             "outlinewidth": 0,
             "ticks": ""
            },
            "colorscale": [
             [
              0,
              "#0d0887"
             ],
             [
              0.1111111111111111,
              "#46039f"
             ],
             [
              0.2222222222222222,
              "#7201a8"
             ],
             [
              0.3333333333333333,
              "#9c179e"
             ],
             [
              0.4444444444444444,
              "#bd3786"
             ],
             [
              0.5555555555555556,
              "#d8576b"
             ],
             [
              0.6666666666666666,
              "#ed7953"
             ],
             [
              0.7777777777777778,
              "#fb9f3a"
             ],
             [
              0.8888888888888888,
              "#fdca26"
             ],
             [
              1,
              "#f0f921"
             ]
            ],
            "type": "heatmap"
           }
          ],
          "histogram": [
           {
            "marker": {
             "pattern": {
              "fillmode": "overlay",
              "size": 10,
              "solidity": 0.2
             }
            },
            "type": "histogram"
           }
          ],
          "histogram2d": [
           {
            "colorbar": {
             "outlinewidth": 0,
             "ticks": ""
            },
            "colorscale": [
             [
              0,
              "#0d0887"
             ],
             [
              0.1111111111111111,
              "#46039f"
             ],
             [
              0.2222222222222222,
              "#7201a8"
             ],
             [
              0.3333333333333333,
              "#9c179e"
             ],
             [
              0.4444444444444444,
              "#bd3786"
             ],
             [
              0.5555555555555556,
              "#d8576b"
             ],
             [
              0.6666666666666666,
              "#ed7953"
             ],
             [
              0.7777777777777778,
              "#fb9f3a"
             ],
             [
              0.8888888888888888,
              "#fdca26"
             ],
             [
              1,
              "#f0f921"
             ]
            ],
            "type": "histogram2d"
           }
          ],
          "histogram2dcontour": [
           {
            "colorbar": {
             "outlinewidth": 0,
             "ticks": ""
            },
            "colorscale": [
             [
              0,
              "#0d0887"
             ],
             [
              0.1111111111111111,
              "#46039f"
             ],
             [
              0.2222222222222222,
              "#7201a8"
             ],
             [
              0.3333333333333333,
              "#9c179e"
             ],
             [
              0.4444444444444444,
              "#bd3786"
             ],
             [
              0.5555555555555556,
              "#d8576b"
             ],
             [
              0.6666666666666666,
              "#ed7953"
             ],
             [
              0.7777777777777778,
              "#fb9f3a"
             ],
             [
              0.8888888888888888,
              "#fdca26"
             ],
             [
              1,
              "#f0f921"
             ]
            ],
            "type": "histogram2dcontour"
           }
          ],
          "mesh3d": [
           {
            "colorbar": {
             "outlinewidth": 0,
             "ticks": ""
            },
            "type": "mesh3d"
           }
          ],
          "parcoords": [
           {
            "line": {
             "colorbar": {
              "outlinewidth": 0,
              "ticks": ""
             }
            },
            "type": "parcoords"
           }
          ],
          "pie": [
           {
            "automargin": true,
            "type": "pie"
           }
          ],
          "scatter": [
           {
            "fillpattern": {
             "fillmode": "overlay",
             "size": 10,
             "solidity": 0.2
            },
            "type": "scatter"
           }
          ],
          "scatter3d": [
           {
            "line": {
             "colorbar": {
              "outlinewidth": 0,
              "ticks": ""
             }
            },
            "marker": {
             "colorbar": {
              "outlinewidth": 0,
              "ticks": ""
             }
            },
            "type": "scatter3d"
           }
          ],
          "scattercarpet": [
           {
            "marker": {
             "colorbar": {
              "outlinewidth": 0,
              "ticks": ""
             }
            },
            "type": "scattercarpet"
           }
          ],
          "scattergeo": [
           {
            "marker": {
             "colorbar": {
              "outlinewidth": 0,
              "ticks": ""
             }
            },
            "type": "scattergeo"
           }
          ],
          "scattergl": [
           {
            "marker": {
             "colorbar": {
              "outlinewidth": 0,
              "ticks": ""
             }
            },
            "type": "scattergl"
           }
          ],
          "scattermap": [
           {
            "marker": {
             "colorbar": {
              "outlinewidth": 0,
              "ticks": ""
             }
            },
            "type": "scattermap"
           }
          ],
          "scattermapbox": [
           {
            "marker": {
             "colorbar": {
              "outlinewidth": 0,
              "ticks": ""
             }
            },
            "type": "scattermapbox"
           }
          ],
          "scatterpolar": [
           {
            "marker": {
             "colorbar": {
              "outlinewidth": 0,
              "ticks": ""
             }
            },
            "type": "scatterpolar"
           }
          ],
          "scatterpolargl": [
           {
            "marker": {
             "colorbar": {
              "outlinewidth": 0,
              "ticks": ""
             }
            },
            "type": "scatterpolargl"
           }
          ],
          "scatterternary": [
           {
            "marker": {
             "colorbar": {
              "outlinewidth": 0,
              "ticks": ""
             }
            },
            "type": "scatterternary"
           }
          ],
          "surface": [
           {
            "colorbar": {
             "outlinewidth": 0,
             "ticks": ""
            },
            "colorscale": [
             [
              0,
              "#0d0887"
             ],
             [
              0.1111111111111111,
              "#46039f"
             ],
             [
              0.2222222222222222,
              "#7201a8"
             ],
             [
              0.3333333333333333,
              "#9c179e"
             ],
             [
              0.4444444444444444,
              "#bd3786"
             ],
             [
              0.5555555555555556,
              "#d8576b"
             ],
             [
              0.6666666666666666,
              "#ed7953"
             ],
             [
              0.7777777777777778,
              "#fb9f3a"
             ],
             [
              0.8888888888888888,
              "#fdca26"
             ],
             [
              1,
              "#f0f921"
             ]
            ],
            "type": "surface"
           }
          ],
          "table": [
           {
            "cells": {
             "fill": {
              "color": "#EBF0F8"
             },
             "line": {
              "color": "white"
             }
            },
            "header": {
             "fill": {
              "color": "#C8D4E3"
             },
             "line": {
              "color": "white"
             }
            },
            "type": "table"
           }
          ]
         },
         "layout": {
          "annotationdefaults": {
           "arrowcolor": "#2a3f5f",
           "arrowhead": 0,
           "arrowwidth": 1
          },
          "autotypenumbers": "strict",
          "coloraxis": {
           "colorbar": {
            "outlinewidth": 0,
            "ticks": ""
           }
          },
          "colorscale": {
           "diverging": [
            [
             0,
             "#8e0152"
            ],
            [
             0.1,
             "#c51b7d"
            ],
            [
             0.2,
             "#de77ae"
            ],
            [
             0.3,
             "#f1b6da"
            ],
            [
             0.4,
             "#fde0ef"
            ],
            [
             0.5,
             "#f7f7f7"
            ],
            [
             0.6,
             "#e6f5d0"
            ],
            [
             0.7,
             "#b8e186"
            ],
            [
             0.8,
             "#7fbc41"
            ],
            [
             0.9,
             "#4d9221"
            ],
            [
             1,
             "#276419"
            ]
           ],
           "sequential": [
            [
             0,
             "#0d0887"
            ],
            [
             0.1111111111111111,
             "#46039f"
            ],
            [
             0.2222222222222222,
             "#7201a8"
            ],
            [
             0.3333333333333333,
             "#9c179e"
            ],
            [
             0.4444444444444444,
             "#bd3786"
            ],
            [
             0.5555555555555556,
             "#d8576b"
            ],
            [
             0.6666666666666666,
             "#ed7953"
            ],
            [
             0.7777777777777778,
             "#fb9f3a"
            ],
            [
             0.8888888888888888,
             "#fdca26"
            ],
            [
             1,
             "#f0f921"
            ]
           ],
           "sequentialminus": [
            [
             0,
             "#0d0887"
            ],
            [
             0.1111111111111111,
             "#46039f"
            ],
            [
             0.2222222222222222,
             "#7201a8"
            ],
            [
             0.3333333333333333,
             "#9c179e"
            ],
            [
             0.4444444444444444,
             "#bd3786"
            ],
            [
             0.5555555555555556,
             "#d8576b"
            ],
            [
             0.6666666666666666,
             "#ed7953"
            ],
            [
             0.7777777777777778,
             "#fb9f3a"
            ],
            [
             0.8888888888888888,
             "#fdca26"
            ],
            [
             1,
             "#f0f921"
            ]
           ]
          },
          "colorway": [
           "#636efa",
           "#EF553B",
           "#00cc96",
           "#ab63fa",
           "#FFA15A",
           "#19d3f3",
           "#FF6692",
           "#B6E880",
           "#FF97FF",
           "#FECB52"
          ],
          "font": {
           "color": "#2a3f5f"
          },
          "geo": {
           "bgcolor": "white",
           "lakecolor": "white",
           "landcolor": "#E5ECF6",
           "showlakes": true,
           "showland": true,
           "subunitcolor": "white"
          },
          "hoverlabel": {
           "align": "left"
          },
          "hovermode": "closest",
          "mapbox": {
           "style": "light"
          },
          "paper_bgcolor": "white",
          "plot_bgcolor": "#E5ECF6",
          "polar": {
           "angularaxis": {
            "gridcolor": "white",
            "linecolor": "white",
            "ticks": ""
           },
           "bgcolor": "#E5ECF6",
           "radialaxis": {
            "gridcolor": "white",
            "linecolor": "white",
            "ticks": ""
           }
          },
          "scene": {
           "xaxis": {
            "backgroundcolor": "#E5ECF6",
            "gridcolor": "white",
            "gridwidth": 2,
            "linecolor": "white",
            "showbackground": true,
            "ticks": "",
            "zerolinecolor": "white"
           },
           "yaxis": {
            "backgroundcolor": "#E5ECF6",
            "gridcolor": "white",
            "gridwidth": 2,
            "linecolor": "white",
            "showbackground": true,
            "ticks": "",
            "zerolinecolor": "white"
           },
           "zaxis": {
            "backgroundcolor": "#E5ECF6",
            "gridcolor": "white",
            "gridwidth": 2,
            "linecolor": "white",
            "showbackground": true,
            "ticks": "",
            "zerolinecolor": "white"
           }
          },
          "shapedefaults": {
           "line": {
            "color": "#2a3f5f"
           }
          },
          "ternary": {
           "aaxis": {
            "gridcolor": "white",
            "linecolor": "white",
            "ticks": ""
           },
           "baxis": {
            "gridcolor": "white",
            "linecolor": "white",
            "ticks": ""
           },
           "bgcolor": "#E5ECF6",
           "caxis": {
            "gridcolor": "white",
            "linecolor": "white",
            "ticks": ""
           }
          },
          "title": {
           "x": 0.05
          },
          "xaxis": {
           "automargin": true,
           "gridcolor": "white",
           "linecolor": "white",
           "ticks": "",
           "title": {
            "standoff": 15
           },
           "zerolinecolor": "white",
           "zerolinewidth": 2
          },
          "yaxis": {
           "automargin": true,
           "gridcolor": "white",
           "linecolor": "white",
           "ticks": "",
           "title": {
            "standoff": 15
           },
           "zerolinecolor": "white",
           "zerolinewidth": 2
          }
         }
        },
        "xaxis": {
         "anchor": "y",
         "domain": [
          0,
          1
         ],
         "title": {
          "text": "year"
         }
        },
        "yaxis": {
         "anchor": "x",
         "domain": [
          0,
          1
         ],
         "title": {
          "text": "counts"
         }
        }
       }
      }
     },
     "metadata": {},
     "output_type": "display_data"
    }
   ],
   "source": [
    "def generate_rating_df(df):\n",
    "    rating_df = df.groupby(['year', 'make']).agg({'sellingprice': 'count'}).reset_index()\n",
    "    rating_df = rating_df[rating_df['sellingprice'] != 0]\n",
    "    rating_df.columns = ['year', 'make', 'counts']\n",
    "    rating_df = rating_df.sort_values('make')\n",
    "    return rating_df\n",
    "\n",
    "rating_df = generate_rating_df(df)\n",
    "fig = px.bar(rating_df, x='year', y='counts', color='make')\n",
    "fig.update_traces(textposition='auto',\n",
    "textfont_size=20)\n",
    "fig.update_layout(barmode='group')\n",
    "fig.show()"
   ]
  },
  {
   "cell_type": "markdown",
   "metadata": {},
   "source": [
    "Information:\n",
    "- Car sales increased rapidly in 2012 - 2014\n",
    "- out of the last 15 years, the highest priced ford cars were bought in 2013 - 2014\n",
    "- Sales in 2015 declined with fewer luxury cars purchased."
   ]
  },
  {
   "cell_type": "markdown",
   "metadata": {},
   "source": [
    "### Visualisasi Line Chart"
   ]
  },
  {
   "cell_type": "code",
   "execution_count": 24,
   "metadata": {},
   "outputs": [
    {
     "data": {
      "image/png": "[encoded data removed]",
      "text/plain": [
       "<Figure size 800x500 with 1 Axes>"
      ]
     },
     "metadata": {},
     "output_type": "display_data"
    }
   ],
   "source": [
    "# Mengatur tema\n",
    "sns.set_theme(style='darkgrid')\n",
    "\n",
    "# Mengatur ukuran gambar\n",
    "plt.figure(figsize=(8,5))\n",
    "\n",
    "# Menggambar lineplot\n",
    "sns.lineplot(\n",
    "    data=df, \n",
    "    x='year', \n",
    "    y='sellingprice', \n",
    "    palette='viridis', \n",
    "    estimator='sum',  # Menghitung rata-rata jika ada banyak nilai per tahun\n",
    "    sort=True # Mengatur agar tahun diurutkan\n",
    "    )\n",
    "plt.title('Grafik Penjualan Mobil Per Tahun')\n",
    "plt.xlabel('Year')\n",
    "plt.ylabel('Frequency Selling')\n",
    "\n",
    "plt.show()"
   ]
  },
  {
   "cell_type": "markdown",
   "metadata": {},
   "source": [
    "Information:\n",
    "- Sales increased rapidly in 2012-2014\n",
    "- After 2014 sales declined dramatically until 2015"
   ]
  },
  {
   "cell_type": "markdown",
   "metadata": {},
   "source": [
    "### Visualisasi Histogram Plot"
   ]
  },
  {
   "cell_type": "code",
   "execution_count": 25,
   "metadata": {},
   "outputs": [
    {
     "data": {
      "image/png": "[encoded data removed]",
      "text/plain": [
       "<Figure size 1500x1000 with 6 Axes>"
      ]
     },
     "metadata": {},
     "output_type": "display_data"
    }
   ],
   "source": [
    "num_col = df.select_dtypes(include=['int64', 'float64'])\n",
    "\n",
    "# membuat sebuah figure (gambar) yang berisi grid subplot dengan 3 baris dan 2 kolom, sehingga total ada 6 subplot.\n",
    "fig, axes = plt.subplots(3, 2 ,figsize=(15, 10))\n",
    "\n",
    "# mengubah array 2D dari subplot (3 baris x 2 kolom) menjadi array 1D dengan 6 elemen.\n",
    "axes = axes.flatten()\n",
    "\n",
    "for i, column in enumerate(num_col):\n",
    "    sns.histplot(data=df, x=column, kde=True, ax=axes[i], palette='viridis') #ax=axes[i]: Menentukan subplot mana yang akan digunakan untuk plot in\n",
    "    # menambahkan judul untuk setiap subplot, yang menampilkan nama kolom.\n",
    "    axes[i].set_title(f'Distribution of {column}', fontsize=14)\n",
    "\n",
    "# menghapus subplot yang tidak diperlukan dengan menggunakan fig.delaxes(axes[i]).\n",
    "for i in range(len(num_col), 3 * 2):\n",
    "    fig.delaxes(axes[i])\n",
    "    \n",
    "plt.tight_layout()\n",
    "plt.show()"
   ]
  },
  {
   "cell_type": "code",
   "execution_count": 26,
   "metadata": {},
   "outputs": [
    {
     "data": {
      "image/png": "[encoded data removed]",
      "text/plain": [
       "<Figure size 800x400 with 1 Axes>"
      ]
     },
     "metadata": {},
     "output_type": "display_data"
    }
   ],
   "source": [
    "sns.set_theme(style='darkgrid')\n",
    "\n",
    "plt.figure(figsize=(8, 4))\n",
    "sns.histplot(data=df, x='condition', bins=30, kde=True, color='darkgreen')\n",
    "plt.title('Distribution of Condition')\n",
    "plt.xlabel('Condition')\n",
    "plt.ylabel('Frequency Condition')\n",
    "plt.tight_layout()\n",
    "plt.show()"
   ]
  },
  {
   "cell_type": "markdown",
   "metadata": {},
   "source": [
    "Information:\n",
    "- Condition determines new and used cars.\n",
    "- The lower the condition, the more used the car is.\n",
    "- the higher the condition value, the better or newer the car quality.\n",
    "- the majority of cars are in the range of 20 - 50\n",
    "- there is some data that is in the 0-10 condition\n"
   ]
  },
  {
   "cell_type": "code",
   "execution_count": 27,
   "metadata": {},
   "outputs": [
    {
     "data": {
      "image/png": "[encoded data removed]",
      "text/plain": [
       "<Figure size 800x400 with 1 Axes>"
      ]
     },
     "metadata": {},
     "output_type": "display_data"
    }
   ],
   "source": [
    "sns.set_theme(style='darkgrid')\n",
    "\n",
    "plt.figure(figsize=(8, 4))\n",
    "sns.histplot(data=df, x='year', bins=30, kde=True, color='darkgreen')\n",
    "plt.title('Distribution of year')\n",
    "plt.xlabel('year')\n",
    "plt.ylabel('Frequency year')\n",
    "plt.tight_layout()\n",
    "plt.show()"
   ]
  },
  {
   "cell_type": "markdown",
   "metadata": {},
   "source": [
    "Information:\n",
    "- the frequency of sales each year is increasing and there was a decrease during 2009 - 2010\n",
    "- car sales increased in 2012 - 2014\n"
   ]
  },
  {
   "cell_type": "code",
   "execution_count": 28,
   "metadata": {},
   "outputs": [
    {
     "data": {
      "image/png": "[encoded data removed]",
      "text/plain": [
       "<Figure size 1500x500 with 3 Axes>"
      ]
     },
     "metadata": {},
     "output_type": "display_data"
    }
   ],
   "source": [
    "# Mengatur tema\n",
    "sns.set_theme(style='darkgrid')\n",
    "\n",
    "# Mempersiapkan data dan parameter\n",
    "columns_to_plot = ['odometer', 'mmr', 'sellingprice']\n",
    "titles = [\"Distribusi data odometer\", \"Distribusi data mmr\", \"Distribusi data sellingprice\"]\n",
    "\n",
    "# Mengatur ukuran gambar\n",
    "plt.figure(figsize=(15, 5))\n",
    "\n",
    "# Loop untuk membuat subplot\n",
    "for i, column in enumerate(columns_to_plot):\n",
    "    plt.subplot(1, 3, i + 1)  # 1 baris, 3 kolom, subplot i+1\n",
    "    sns.histplot(data=df, x=column, bins=10, kde=True, color='darkblue')\n",
    "    plt.title(titles[i])  # Menetapkan judul dari array titles\n",
    "    plt.xlabel(column)\n",
    "    plt.ylabel('Frequency Score')\n",
    "\n",
    "# Menampilkan plot\n",
    "plt.tight_layout()  # Untuk memastikan tidak ada tumpang tindih antara subplot\n",
    "plt.show()"
   ]
  },
  {
   "cell_type": "markdown",
   "metadata": {},
   "source": [
    "Information:\n",
    "- All three features show data that is not evenly distributed and is more skewed to the right.\n",
    "- there is more data in the range around 0\n"
   ]
  }
 ],
 "metadata": {
  "kernelspec": {
   "display_name": "Python 3",
   "language": "python",
   "name": "python3"
  },
  "language_info": {
   "codemirror_mode": {
    "name": "ipython",
    "version": 3
   },
   "file_extension": ".py",
   "mimetype": "text/x-python",
   "name": "python",
   "nbconvert_exporter": "python",
   "pygments_lexer": "ipython3",
   "version": "3.11.2"
  }
 },
 "nbformat": 4,
 "nbformat_minor": 2
}
